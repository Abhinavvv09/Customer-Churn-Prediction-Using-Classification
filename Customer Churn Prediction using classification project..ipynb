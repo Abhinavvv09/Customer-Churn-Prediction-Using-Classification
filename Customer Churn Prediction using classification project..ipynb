{
 "cells": [
  {
   "cell_type": "markdown",
   "id": "6790e649",
   "metadata": {},
   "source": [
    "# Overview :\n",
    "    \n"
   ]
  },
  {
   "cell_type": "markdown",
   "id": "48571e85",
   "metadata": {},
   "source": [
    "This dataset provides a comprehensive overview of customer interactions with an online retail store, aiming to predict customer churn based on various behavioral and demographic features."
   ]
  },
  {
   "cell_type": "code",
   "execution_count": 171,
   "id": "7d6578ce",
   "metadata": {},
   "outputs": [],
   "source": [
    "import numpy as np\n",
    "import pandas as pd\n",
    "import seaborn as sns\n",
    "import matplotlib.pyplot as plt\n",
    "import warnings\n",
    "warnings.filterwarnings(\"ignore\", category=FutureWarning)"
   ]
  },
  {
   "cell_type": "code",
   "execution_count": 100,
   "id": "0bdea17e",
   "metadata": {},
   "outputs": [
    {
     "name": "stdout",
     "output_type": "stream",
     "text": [
      "Requirement already satisfied: imbalanced-learn in c:\\users\\absarma\\anaconda3\\lib\\site-packages (0.12.4)Note: you may need to restart the kernel to use updated packages.\n",
      "Requirement already satisfied: scipy>=1.5.0 in c:\\users\\absarma\\anaconda3\\lib\\site-packages (from imbalanced-learn) (1.7.3)\n",
      "Requirement already satisfied: numpy>=1.17.3 in c:\\users\\absarma\\anaconda3\\lib\\site-packages (from imbalanced-learn) (1.21.5)\n",
      "Requirement already satisfied: threadpoolctl>=2.0.0 in c:\\users\\absarma\\anaconda3\\lib\\site-packages (from imbalanced-learn) (3.6.0)\n",
      "Requirement already satisfied: scikit-learn>=1.0.2 in c:\\users\\absarma\\anaconda3\\lib\\site-packages (from imbalanced-learn) (1.6.1)\n",
      "Requirement already satisfied: joblib>=1.1.1 in c:\\users\\absarma\\anaconda3\\lib\\site-packages (from imbalanced-learn) (1.5.1)\n",
      "\n"
     ]
    }
   ],
   "source": [
    "pip install imbalanced-learn"
   ]
  },
  {
   "cell_type": "code",
   "execution_count": 2,
   "id": "de664d9c",
   "metadata": {},
   "outputs": [],
   "source": [
    "retail = pd.read_csv('./online_retail_customer_churn.csv')\n"
   ]
  },
  {
   "cell_type": "code",
   "execution_count": 3,
   "id": "d51e7056",
   "metadata": {},
   "outputs": [
    {
     "data": {
      "text/html": [
       "<div>\n",
       "<style scoped>\n",
       "    .dataframe tbody tr th:only-of-type {\n",
       "        vertical-align: middle;\n",
       "    }\n",
       "\n",
       "    .dataframe tbody tr th {\n",
       "        vertical-align: top;\n",
       "    }\n",
       "\n",
       "    .dataframe thead th {\n",
       "        text-align: right;\n",
       "    }\n",
       "</style>\n",
       "<table border=\"1\" class=\"dataframe\">\n",
       "  <thead>\n",
       "    <tr style=\"text-align: right;\">\n",
       "      <th></th>\n",
       "      <th>Customer_ID</th>\n",
       "      <th>Age</th>\n",
       "      <th>Gender</th>\n",
       "      <th>Annual_Income</th>\n",
       "      <th>Total_Spend</th>\n",
       "      <th>Years_as_Customer</th>\n",
       "      <th>Num_of_Purchases</th>\n",
       "      <th>Average_Transaction_Amount</th>\n",
       "      <th>Num_of_Returns</th>\n",
       "      <th>Num_of_Support_Contacts</th>\n",
       "      <th>Satisfaction_Score</th>\n",
       "      <th>Last_Purchase_Days_Ago</th>\n",
       "      <th>Email_Opt_In</th>\n",
       "      <th>Promotion_Response</th>\n",
       "      <th>Target_Churn</th>\n",
       "    </tr>\n",
       "  </thead>\n",
       "  <tbody>\n",
       "    <tr>\n",
       "      <th>0</th>\n",
       "      <td>1</td>\n",
       "      <td>62</td>\n",
       "      <td>Other</td>\n",
       "      <td>45.15</td>\n",
       "      <td>5892.58</td>\n",
       "      <td>5</td>\n",
       "      <td>22.0</td>\n",
       "      <td>453.80</td>\n",
       "      <td>2</td>\n",
       "      <td>0</td>\n",
       "      <td>3.0</td>\n",
       "      <td>129</td>\n",
       "      <td>True</td>\n",
       "      <td>Responded</td>\n",
       "      <td>False</td>\n",
       "    </tr>\n",
       "    <tr>\n",
       "      <th>1</th>\n",
       "      <td>2</td>\n",
       "      <td>65</td>\n",
       "      <td>Male</td>\n",
       "      <td>79.51</td>\n",
       "      <td>9025.47</td>\n",
       "      <td>13</td>\n",
       "      <td>77.0</td>\n",
       "      <td>22.90</td>\n",
       "      <td>2</td>\n",
       "      <td>2</td>\n",
       "      <td>3.0</td>\n",
       "      <td>227</td>\n",
       "      <td>False</td>\n",
       "      <td>Responded</td>\n",
       "      <td>False</td>\n",
       "    </tr>\n",
       "    <tr>\n",
       "      <th>2</th>\n",
       "      <td>3</td>\n",
       "      <td>18</td>\n",
       "      <td>Male</td>\n",
       "      <td>29.19</td>\n",
       "      <td>618.83</td>\n",
       "      <td>13</td>\n",
       "      <td>71.0</td>\n",
       "      <td>50.53</td>\n",
       "      <td>5</td>\n",
       "      <td>2</td>\n",
       "      <td>2.0</td>\n",
       "      <td>283</td>\n",
       "      <td>False</td>\n",
       "      <td>Responded</td>\n",
       "      <td>True</td>\n",
       "    </tr>\n",
       "    <tr>\n",
       "      <th>3</th>\n",
       "      <td>4</td>\n",
       "      <td>21</td>\n",
       "      <td>Other</td>\n",
       "      <td>79.63</td>\n",
       "      <td>9110.30</td>\n",
       "      <td>3</td>\n",
       "      <td>33.0</td>\n",
       "      <td>411.83</td>\n",
       "      <td>5</td>\n",
       "      <td>3</td>\n",
       "      <td>5.0</td>\n",
       "      <td>226</td>\n",
       "      <td>True</td>\n",
       "      <td>Ignored</td>\n",
       "      <td>True</td>\n",
       "    </tr>\n",
       "    <tr>\n",
       "      <th>4</th>\n",
       "      <td>5</td>\n",
       "      <td>21</td>\n",
       "      <td>Other</td>\n",
       "      <td>77.66</td>\n",
       "      <td>5390.88</td>\n",
       "      <td>15</td>\n",
       "      <td>43.0</td>\n",
       "      <td>101.19</td>\n",
       "      <td>3</td>\n",
       "      <td>0</td>\n",
       "      <td>5.0</td>\n",
       "      <td>242</td>\n",
       "      <td>False</td>\n",
       "      <td>Unsubscribed</td>\n",
       "      <td>True</td>\n",
       "    </tr>\n",
       "    <tr>\n",
       "      <th>5</th>\n",
       "      <td>6</td>\n",
       "      <td>57</td>\n",
       "      <td>Male</td>\n",
       "      <td>190.43</td>\n",
       "      <td>255.19</td>\n",
       "      <td>19</td>\n",
       "      <td>85.0</td>\n",
       "      <td>417.78</td>\n",
       "      <td>5</td>\n",
       "      <td>1</td>\n",
       "      <td>4.0</td>\n",
       "      <td>130</td>\n",
       "      <td>False</td>\n",
       "      <td>Unsubscribed</td>\n",
       "      <td>False</td>\n",
       "    </tr>\n",
       "    <tr>\n",
       "      <th>6</th>\n",
       "      <td>7</td>\n",
       "      <td>27</td>\n",
       "      <td>Male</td>\n",
       "      <td>172.13</td>\n",
       "      <td>3512.55</td>\n",
       "      <td>3</td>\n",
       "      <td>77.0</td>\n",
       "      <td>316.18</td>\n",
       "      <td>0</td>\n",
       "      <td>3</td>\n",
       "      <td>1.0</td>\n",
       "      <td>61</td>\n",
       "      <td>True</td>\n",
       "      <td>Unsubscribed</td>\n",
       "      <td>False</td>\n",
       "    </tr>\n",
       "    <tr>\n",
       "      <th>7</th>\n",
       "      <td>8</td>\n",
       "      <td>37</td>\n",
       "      <td>Other</td>\n",
       "      <td>88.90</td>\n",
       "      <td>7270.90</td>\n",
       "      <td>4</td>\n",
       "      <td>87.0</td>\n",
       "      <td>63.61</td>\n",
       "      <td>3</td>\n",
       "      <td>4</td>\n",
       "      <td>3.0</td>\n",
       "      <td>224</td>\n",
       "      <td>False</td>\n",
       "      <td>Ignored</td>\n",
       "      <td>False</td>\n",
       "    </tr>\n",
       "    <tr>\n",
       "      <th>8</th>\n",
       "      <td>9</td>\n",
       "      <td>39</td>\n",
       "      <td>Other</td>\n",
       "      <td>24.46</td>\n",
       "      <td>4935.49</td>\n",
       "      <td>1</td>\n",
       "      <td>21.0</td>\n",
       "      <td>173.80</td>\n",
       "      <td>9</td>\n",
       "      <td>2</td>\n",
       "      <td>4.0</td>\n",
       "      <td>126</td>\n",
       "      <td>True</td>\n",
       "      <td>Responded</td>\n",
       "      <td>True</td>\n",
       "    </tr>\n",
       "    <tr>\n",
       "      <th>9</th>\n",
       "      <td>10</td>\n",
       "      <td>68</td>\n",
       "      <td>Other</td>\n",
       "      <td>169.59</td>\n",
       "      <td>9803.57</td>\n",
       "      <td>17</td>\n",
       "      <td>34.0</td>\n",
       "      <td>481.18</td>\n",
       "      <td>6</td>\n",
       "      <td>1</td>\n",
       "      <td>2.0</td>\n",
       "      <td>171</td>\n",
       "      <td>True</td>\n",
       "      <td>Unsubscribed</td>\n",
       "      <td>False</td>\n",
       "    </tr>\n",
       "    <tr>\n",
       "      <th>10</th>\n",
       "      <td>11</td>\n",
       "      <td>54</td>\n",
       "      <td>Male</td>\n",
       "      <td>138.90</td>\n",
       "      <td>4283.84</td>\n",
       "      <td>15</td>\n",
       "      <td>33.0</td>\n",
       "      <td>96.55</td>\n",
       "      <td>9</td>\n",
       "      <td>1</td>\n",
       "      <td>NaN</td>\n",
       "      <td>92</td>\n",
       "      <td>True</td>\n",
       "      <td>Responded</td>\n",
       "      <td>False</td>\n",
       "    </tr>\n",
       "    <tr>\n",
       "      <th>11</th>\n",
       "      <td>12</td>\n",
       "      <td>41</td>\n",
       "      <td>Female</td>\n",
       "      <td>47.43</td>\n",
       "      <td>3333.69</td>\n",
       "      <td>4</td>\n",
       "      <td>10.0</td>\n",
       "      <td>212.58</td>\n",
       "      <td>0</td>\n",
       "      <td>0</td>\n",
       "      <td>2.0</td>\n",
       "      <td>213</td>\n",
       "      <td>NaN</td>\n",
       "      <td>Responded</td>\n",
       "      <td>False</td>\n",
       "    </tr>\n",
       "    <tr>\n",
       "      <th>12</th>\n",
       "      <td>13</td>\n",
       "      <td>24</td>\n",
       "      <td>Other</td>\n",
       "      <td>199.29</td>\n",
       "      <td>8234.55</td>\n",
       "      <td>1</td>\n",
       "      <td>NaN</td>\n",
       "      <td>160.58</td>\n",
       "      <td>2</td>\n",
       "      <td>1</td>\n",
       "      <td>5.0</td>\n",
       "      <td>276</td>\n",
       "      <td>False</td>\n",
       "      <td>Ignored</td>\n",
       "      <td>True</td>\n",
       "    </tr>\n",
       "    <tr>\n",
       "      <th>13</th>\n",
       "      <td>14</td>\n",
       "      <td>42</td>\n",
       "      <td>Female</td>\n",
       "      <td>38.04</td>\n",
       "      <td>5524.28</td>\n",
       "      <td>12</td>\n",
       "      <td>4.0</td>\n",
       "      <td>259.81</td>\n",
       "      <td>5</td>\n",
       "      <td>4</td>\n",
       "      <td>2.0</td>\n",
       "      <td>212</td>\n",
       "      <td>False</td>\n",
       "      <td>Ignored</td>\n",
       "      <td>True</td>\n",
       "    </tr>\n",
       "    <tr>\n",
       "      <th>14</th>\n",
       "      <td>15</td>\n",
       "      <td>42</td>\n",
       "      <td>Female</td>\n",
       "      <td>176.08</td>\n",
       "      <td>6855.03</td>\n",
       "      <td>17</td>\n",
       "      <td>64.0</td>\n",
       "      <td>222.85</td>\n",
       "      <td>6</td>\n",
       "      <td>0</td>\n",
       "      <td>1.0</td>\n",
       "      <td>125</td>\n",
       "      <td>False</td>\n",
       "      <td>Ignored</td>\n",
       "      <td>False</td>\n",
       "    </tr>\n",
       "    <tr>\n",
       "      <th>15</th>\n",
       "      <td>16</td>\n",
       "      <td>30</td>\n",
       "      <td>Male</td>\n",
       "      <td>72.97</td>\n",
       "      <td>8076.45</td>\n",
       "      <td>9</td>\n",
       "      <td>63.0</td>\n",
       "      <td>466.61</td>\n",
       "      <td>5</td>\n",
       "      <td>0</td>\n",
       "      <td>3.0</td>\n",
       "      <td>304</td>\n",
       "      <td>False</td>\n",
       "      <td>NaN</td>\n",
       "      <td>False</td>\n",
       "    </tr>\n",
       "    <tr>\n",
       "      <th>16</th>\n",
       "      <td>17</td>\n",
       "      <td>19</td>\n",
       "      <td>Male</td>\n",
       "      <td>NaN</td>\n",
       "      <td>6747.13</td>\n",
       "      <td>10</td>\n",
       "      <td>9.0</td>\n",
       "      <td>414.80</td>\n",
       "      <td>7</td>\n",
       "      <td>3</td>\n",
       "      <td>2.0</td>\n",
       "      <td>274</td>\n",
       "      <td>True</td>\n",
       "      <td>Responded</td>\n",
       "      <td>True</td>\n",
       "    </tr>\n",
       "    <tr>\n",
       "      <th>17</th>\n",
       "      <td>18</td>\n",
       "      <td>56</td>\n",
       "      <td>Female</td>\n",
       "      <td>163.18</td>\n",
       "      <td>4281.83</td>\n",
       "      <td>3</td>\n",
       "      <td>29.0</td>\n",
       "      <td>294.39</td>\n",
       "      <td>7</td>\n",
       "      <td>0</td>\n",
       "      <td>3.0</td>\n",
       "      <td>197</td>\n",
       "      <td>True</td>\n",
       "      <td>Unsubscribed</td>\n",
       "      <td>False</td>\n",
       "    </tr>\n",
       "    <tr>\n",
       "      <th>18</th>\n",
       "      <td>19</td>\n",
       "      <td>57</td>\n",
       "      <td>Male</td>\n",
       "      <td>141.95</td>\n",
       "      <td>1335.48</td>\n",
       "      <td>15</td>\n",
       "      <td>14.0</td>\n",
       "      <td>173.58</td>\n",
       "      <td>7</td>\n",
       "      <td>3</td>\n",
       "      <td>4.0</td>\n",
       "      <td>4</td>\n",
       "      <td>False</td>\n",
       "      <td>Responded</td>\n",
       "      <td>False</td>\n",
       "    </tr>\n",
       "    <tr>\n",
       "      <th>19</th>\n",
       "      <td>20</td>\n",
       "      <td>41</td>\n",
       "      <td>Other</td>\n",
       "      <td>188.82</td>\n",
       "      <td>5844.46</td>\n",
       "      <td>11</td>\n",
       "      <td>88.0</td>\n",
       "      <td>378.05</td>\n",
       "      <td>8</td>\n",
       "      <td>4</td>\n",
       "      <td>5.0</td>\n",
       "      <td>57</td>\n",
       "      <td>NaN</td>\n",
       "      <td>Unsubscribed</td>\n",
       "      <td>False</td>\n",
       "    </tr>\n",
       "  </tbody>\n",
       "</table>\n",
       "</div>"
      ],
      "text/plain": [
       "    Customer_ID  Age  Gender  Annual_Income  Total_Spend  Years_as_Customer  \\\n",
       "0             1   62   Other          45.15      5892.58                  5   \n",
       "1             2   65    Male          79.51      9025.47                 13   \n",
       "2             3   18    Male          29.19       618.83                 13   \n",
       "3             4   21   Other          79.63      9110.30                  3   \n",
       "4             5   21   Other          77.66      5390.88                 15   \n",
       "5             6   57    Male         190.43       255.19                 19   \n",
       "6             7   27    Male         172.13      3512.55                  3   \n",
       "7             8   37   Other          88.90      7270.90                  4   \n",
       "8             9   39   Other          24.46      4935.49                  1   \n",
       "9            10   68   Other         169.59      9803.57                 17   \n",
       "10           11   54    Male         138.90      4283.84                 15   \n",
       "11           12   41  Female          47.43      3333.69                  4   \n",
       "12           13   24   Other         199.29      8234.55                  1   \n",
       "13           14   42  Female          38.04      5524.28                 12   \n",
       "14           15   42  Female         176.08      6855.03                 17   \n",
       "15           16   30    Male          72.97      8076.45                  9   \n",
       "16           17   19    Male            NaN      6747.13                 10   \n",
       "17           18   56  Female         163.18      4281.83                  3   \n",
       "18           19   57    Male         141.95      1335.48                 15   \n",
       "19           20   41   Other         188.82      5844.46                 11   \n",
       "\n",
       "    Num_of_Purchases  Average_Transaction_Amount  Num_of_Returns  \\\n",
       "0               22.0                      453.80               2   \n",
       "1               77.0                       22.90               2   \n",
       "2               71.0                       50.53               5   \n",
       "3               33.0                      411.83               5   \n",
       "4               43.0                      101.19               3   \n",
       "5               85.0                      417.78               5   \n",
       "6               77.0                      316.18               0   \n",
       "7               87.0                       63.61               3   \n",
       "8               21.0                      173.80               9   \n",
       "9               34.0                      481.18               6   \n",
       "10              33.0                       96.55               9   \n",
       "11              10.0                      212.58               0   \n",
       "12               NaN                      160.58               2   \n",
       "13               4.0                      259.81               5   \n",
       "14              64.0                      222.85               6   \n",
       "15              63.0                      466.61               5   \n",
       "16               9.0                      414.80               7   \n",
       "17              29.0                      294.39               7   \n",
       "18              14.0                      173.58               7   \n",
       "19              88.0                      378.05               8   \n",
       "\n",
       "    Num_of_Support_Contacts  Satisfaction_Score  Last_Purchase_Days_Ago  \\\n",
       "0                         0                 3.0                     129   \n",
       "1                         2                 3.0                     227   \n",
       "2                         2                 2.0                     283   \n",
       "3                         3                 5.0                     226   \n",
       "4                         0                 5.0                     242   \n",
       "5                         1                 4.0                     130   \n",
       "6                         3                 1.0                      61   \n",
       "7                         4                 3.0                     224   \n",
       "8                         2                 4.0                     126   \n",
       "9                         1                 2.0                     171   \n",
       "10                        1                 NaN                      92   \n",
       "11                        0                 2.0                     213   \n",
       "12                        1                 5.0                     276   \n",
       "13                        4                 2.0                     212   \n",
       "14                        0                 1.0                     125   \n",
       "15                        0                 3.0                     304   \n",
       "16                        3                 2.0                     274   \n",
       "17                        0                 3.0                     197   \n",
       "18                        3                 4.0                       4   \n",
       "19                        4                 5.0                      57   \n",
       "\n",
       "   Email_Opt_In Promotion_Response  Target_Churn  \n",
       "0          True          Responded         False  \n",
       "1         False          Responded         False  \n",
       "2         False          Responded          True  \n",
       "3          True            Ignored          True  \n",
       "4         False       Unsubscribed          True  \n",
       "5         False       Unsubscribed         False  \n",
       "6          True       Unsubscribed         False  \n",
       "7         False            Ignored         False  \n",
       "8          True          Responded          True  \n",
       "9          True       Unsubscribed         False  \n",
       "10         True          Responded         False  \n",
       "11          NaN          Responded         False  \n",
       "12        False            Ignored          True  \n",
       "13        False            Ignored          True  \n",
       "14        False            Ignored         False  \n",
       "15        False                NaN         False  \n",
       "16         True          Responded          True  \n",
       "17         True       Unsubscribed         False  \n",
       "18        False          Responded         False  \n",
       "19          NaN       Unsubscribed         False  "
      ]
     },
     "execution_count": 3,
     "metadata": {},
     "output_type": "execute_result"
    }
   ],
   "source": [
    "retail.head(20)"
   ]
  },
  {
   "cell_type": "markdown",
   "id": "4c88843f",
   "metadata": {},
   "source": [
    "# Description of Columns:"
   ]
  },
  {
   "cell_type": "markdown",
   "id": "91fca5f7",
   "metadata": {},
   "source": [
    "Customer_ID: A unique identifier for each customer.\n",
    "\n",
    "Age: The customer's age.\n",
    "\n",
    "Gender: The customer's gender (Male, Female, Other).\n",
    "\n",
    "Annual_Income: The annual income of the customer in thousands of dollars.\n",
    "\n",
    "Total_Spend: The total amount spent by the customer in the last year.\n",
    "\n",
    "Years_as_Customer: The number of years the individual has been a customer of the store.\n",
    "\n",
    "Num_of_Purchases: The number of purchases the customer made in the last year.\n",
    "\n",
    "Average_Transaction_Amount: The average amount spent per transaction.\n",
    "\n",
    "Num_of_Returns: The number of items the customer returned in the last year.\n",
    "\n",
    "Num_of_Support_Contacts: The number of times the customer contacted support in the last year\n",
    ".\n",
    "Satisfaction_Score: A score from 1 to 5 indicating the customer's satisfaction with the store.\n",
    "\n",
    "Last_Purchase_Days_Ago: The number of days since the customer's last purchase.\n",
    "\n",
    "Email_Opt_In: Whether the customer has opted in to receive marketing emails.\n",
    "\n",
    "Promotion_Response: The customer's response to the last promotional campaign (Responded, Ignored, Unsubscribed).\n",
    "\n",
    "Target_Churn: Indicates whether the customer churned (True or False)."
   ]
  },
  {
   "cell_type": "code",
   "execution_count": 4,
   "id": "45b01aeb",
   "metadata": {},
   "outputs": [
    {
     "data": {
      "text/plain": [
       "False    707\n",
       "True     293\n",
       "Name: Target_Churn, dtype: int64"
      ]
     },
     "execution_count": 4,
     "metadata": {},
     "output_type": "execute_result"
    }
   ],
   "source": [
    "retail['Target_Churn'].value_counts()"
   ]
  },
  {
   "cell_type": "code",
   "execution_count": 5,
   "id": "0f5f2fb2",
   "metadata": {},
   "outputs": [
    {
     "data": {
      "text/html": [
       "<div>\n",
       "<style scoped>\n",
       "    .dataframe tbody tr th:only-of-type {\n",
       "        vertical-align: middle;\n",
       "    }\n",
       "\n",
       "    .dataframe tbody tr th {\n",
       "        vertical-align: top;\n",
       "    }\n",
       "\n",
       "    .dataframe thead th {\n",
       "        text-align: right;\n",
       "    }\n",
       "</style>\n",
       "<table border=\"1\" class=\"dataframe\">\n",
       "  <thead>\n",
       "    <tr style=\"text-align: right;\">\n",
       "      <th></th>\n",
       "      <th>Customer_ID</th>\n",
       "      <th>Age</th>\n",
       "      <th>Annual_Income</th>\n",
       "      <th>Total_Spend</th>\n",
       "      <th>Years_as_Customer</th>\n",
       "      <th>Num_of_Purchases</th>\n",
       "      <th>Average_Transaction_Amount</th>\n",
       "      <th>Num_of_Returns</th>\n",
       "      <th>Num_of_Support_Contacts</th>\n",
       "      <th>Satisfaction_Score</th>\n",
       "      <th>Last_Purchase_Days_Ago</th>\n",
       "    </tr>\n",
       "  </thead>\n",
       "  <tbody>\n",
       "    <tr>\n",
       "      <th>count</th>\n",
       "      <td>1000.000000</td>\n",
       "      <td>1000.000000</td>\n",
       "      <td>985.000000</td>\n",
       "      <td>1000.00000</td>\n",
       "      <td>1000.000000</td>\n",
       "      <td>991.000000</td>\n",
       "      <td>1000.000000</td>\n",
       "      <td>1000.000000</td>\n",
       "      <td>1000.000000</td>\n",
       "      <td>993.000000</td>\n",
       "      <td>1000.000000</td>\n",
       "    </tr>\n",
       "    <tr>\n",
       "      <th>mean</th>\n",
       "      <td>500.500000</td>\n",
       "      <td>43.267000</td>\n",
       "      <td>112.344122</td>\n",
       "      <td>5080.79265</td>\n",
       "      <td>9.727000</td>\n",
       "      <td>49.506559</td>\n",
       "      <td>266.876530</td>\n",
       "      <td>4.612000</td>\n",
       "      <td>1.934000</td>\n",
       "      <td>2.974824</td>\n",
       "      <td>182.890000</td>\n",
       "    </tr>\n",
       "    <tr>\n",
       "      <th>std</th>\n",
       "      <td>288.819436</td>\n",
       "      <td>15.242311</td>\n",
       "      <td>52.842920</td>\n",
       "      <td>2862.12335</td>\n",
       "      <td>5.536346</td>\n",
       "      <td>28.592040</td>\n",
       "      <td>145.873445</td>\n",
       "      <td>2.896869</td>\n",
       "      <td>1.402716</td>\n",
       "      <td>1.392799</td>\n",
       "      <td>104.391319</td>\n",
       "    </tr>\n",
       "    <tr>\n",
       "      <th>min</th>\n",
       "      <td>1.000000</td>\n",
       "      <td>18.000000</td>\n",
       "      <td>20.010000</td>\n",
       "      <td>108.94000</td>\n",
       "      <td>1.000000</td>\n",
       "      <td>1.000000</td>\n",
       "      <td>10.460000</td>\n",
       "      <td>0.000000</td>\n",
       "      <td>0.000000</td>\n",
       "      <td>1.000000</td>\n",
       "      <td>1.000000</td>\n",
       "    </tr>\n",
       "    <tr>\n",
       "      <th>25%</th>\n",
       "      <td>250.750000</td>\n",
       "      <td>30.000000</td>\n",
       "      <td>67.950000</td>\n",
       "      <td>2678.67500</td>\n",
       "      <td>5.000000</td>\n",
       "      <td>25.000000</td>\n",
       "      <td>139.682500</td>\n",
       "      <td>2.000000</td>\n",
       "      <td>1.000000</td>\n",
       "      <td>2.000000</td>\n",
       "      <td>93.000000</td>\n",
       "    </tr>\n",
       "    <tr>\n",
       "      <th>50%</th>\n",
       "      <td>500.500000</td>\n",
       "      <td>43.000000</td>\n",
       "      <td>115.050000</td>\n",
       "      <td>4986.19500</td>\n",
       "      <td>9.000000</td>\n",
       "      <td>49.000000</td>\n",
       "      <td>270.100000</td>\n",
       "      <td>5.000000</td>\n",
       "      <td>2.000000</td>\n",
       "      <td>3.000000</td>\n",
       "      <td>180.500000</td>\n",
       "    </tr>\n",
       "    <tr>\n",
       "      <th>75%</th>\n",
       "      <td>750.250000</td>\n",
       "      <td>56.000000</td>\n",
       "      <td>158.580000</td>\n",
       "      <td>7606.47000</td>\n",
       "      <td>14.000000</td>\n",
       "      <td>74.000000</td>\n",
       "      <td>401.602500</td>\n",
       "      <td>7.000000</td>\n",
       "      <td>3.000000</td>\n",
       "      <td>4.000000</td>\n",
       "      <td>274.000000</td>\n",
       "    </tr>\n",
       "    <tr>\n",
       "      <th>max</th>\n",
       "      <td>1000.000000</td>\n",
       "      <td>69.000000</td>\n",
       "      <td>199.730000</td>\n",
       "      <td>9999.64000</td>\n",
       "      <td>19.000000</td>\n",
       "      <td>99.000000</td>\n",
       "      <td>499.570000</td>\n",
       "      <td>9.000000</td>\n",
       "      <td>4.000000</td>\n",
       "      <td>5.000000</td>\n",
       "      <td>364.000000</td>\n",
       "    </tr>\n",
       "  </tbody>\n",
       "</table>\n",
       "</div>"
      ],
      "text/plain": [
       "       Customer_ID          Age  Annual_Income  Total_Spend  \\\n",
       "count  1000.000000  1000.000000     985.000000   1000.00000   \n",
       "mean    500.500000    43.267000     112.344122   5080.79265   \n",
       "std     288.819436    15.242311      52.842920   2862.12335   \n",
       "min       1.000000    18.000000      20.010000    108.94000   \n",
       "25%     250.750000    30.000000      67.950000   2678.67500   \n",
       "50%     500.500000    43.000000     115.050000   4986.19500   \n",
       "75%     750.250000    56.000000     158.580000   7606.47000   \n",
       "max    1000.000000    69.000000     199.730000   9999.64000   \n",
       "\n",
       "       Years_as_Customer  Num_of_Purchases  Average_Transaction_Amount  \\\n",
       "count        1000.000000        991.000000                 1000.000000   \n",
       "mean            9.727000         49.506559                  266.876530   \n",
       "std             5.536346         28.592040                  145.873445   \n",
       "min             1.000000          1.000000                   10.460000   \n",
       "25%             5.000000         25.000000                  139.682500   \n",
       "50%             9.000000         49.000000                  270.100000   \n",
       "75%            14.000000         74.000000                  401.602500   \n",
       "max            19.000000         99.000000                  499.570000   \n",
       "\n",
       "       Num_of_Returns  Num_of_Support_Contacts  Satisfaction_Score  \\\n",
       "count     1000.000000              1000.000000          993.000000   \n",
       "mean         4.612000                 1.934000            2.974824   \n",
       "std          2.896869                 1.402716            1.392799   \n",
       "min          0.000000                 0.000000            1.000000   \n",
       "25%          2.000000                 1.000000            2.000000   \n",
       "50%          5.000000                 2.000000            3.000000   \n",
       "75%          7.000000                 3.000000            4.000000   \n",
       "max          9.000000                 4.000000            5.000000   \n",
       "\n",
       "       Last_Purchase_Days_Ago  \n",
       "count             1000.000000  \n",
       "mean               182.890000  \n",
       "std                104.391319  \n",
       "min                  1.000000  \n",
       "25%                 93.000000  \n",
       "50%                180.500000  \n",
       "75%                274.000000  \n",
       "max                364.000000  "
      ]
     },
     "execution_count": 5,
     "metadata": {},
     "output_type": "execute_result"
    }
   ],
   "source": [
    "retail.describe()"
   ]
  },
  {
   "cell_type": "code",
   "execution_count": 6,
   "id": "f786c6b5",
   "metadata": {},
   "outputs": [
    {
     "data": {
      "text/plain": [
       "Customer_ID                     int64\n",
       "Age                             int64\n",
       "Gender                         object\n",
       "Annual_Income                 float64\n",
       "Total_Spend                   float64\n",
       "Years_as_Customer               int64\n",
       "Num_of_Purchases              float64\n",
       "Average_Transaction_Amount    float64\n",
       "Num_of_Returns                  int64\n",
       "Num_of_Support_Contacts         int64\n",
       "Satisfaction_Score            float64\n",
       "Last_Purchase_Days_Ago          int64\n",
       "Email_Opt_In                   object\n",
       "Promotion_Response             object\n",
       "Target_Churn                     bool\n",
       "dtype: object"
      ]
     },
     "execution_count": 6,
     "metadata": {},
     "output_type": "execute_result"
    }
   ],
   "source": [
    "retail.dtypes"
   ]
  },
  {
   "cell_type": "code",
   "execution_count": 7,
   "id": "0fe83327",
   "metadata": {},
   "outputs": [
    {
     "data": {
      "text/plain": [
       "Customer_ID                    0\n",
       "Age                            0\n",
       "Gender                         0\n",
       "Annual_Income                 15\n",
       "Total_Spend                    0\n",
       "Years_as_Customer              0\n",
       "Num_of_Purchases               9\n",
       "Average_Transaction_Amount     0\n",
       "Num_of_Returns                 0\n",
       "Num_of_Support_Contacts        0\n",
       "Satisfaction_Score             7\n",
       "Last_Purchase_Days_Ago         0\n",
       "Email_Opt_In                  13\n",
       "Promotion_Response             8\n",
       "Target_Churn                   0\n",
       "dtype: int64"
      ]
     },
     "execution_count": 7,
     "metadata": {},
     "output_type": "execute_result"
    }
   ],
   "source": [
    "retail.isnull().sum()"
   ]
  },
  {
   "cell_type": "markdown",
   "id": "97917eee",
   "metadata": {},
   "source": [
    "### Handling Missing Values:\n",
    "\n"
   ]
  },
  {
   "cell_type": "markdown",
   "id": "2fe406ff",
   "metadata": {},
   "source": [
    "We see that Annual_Income, Satisfaction_Score,Email_Opt_in, Promotion Response have missing values. We handle them by imputing the mean for numerical fields and the mode for categorical fields, using values calculated across all records."
   ]
  },
  {
   "cell_type": "code",
   "execution_count": 8,
   "id": "e4a48362",
   "metadata": {},
   "outputs": [],
   "source": [
    "retail['Annual_Income'] = retail['Annual_Income'].fillna(retail['Annual_Income'].mean())\n",
    "retail['Email_Opt_In']=retail['Email_Opt_In'].fillna(retail['Email_Opt_In'].mode()[0])\n",
    "retail['Promotion_Response'] = retail['Promotion_Response'].fillna(retail['Promotion_Response'].mode()[0])"
   ]
  },
  {
   "cell_type": "code",
   "execution_count": 9,
   "id": "e3bc9360",
   "metadata": {},
   "outputs": [],
   "source": [
    "mean_value = round(retail['Num_of_Purchases'].mean())\n",
    "retail['Num_of_Purchases'] = retail['Num_of_Purchases'].fillna(mean_value).astype(int)"
   ]
  },
  {
   "cell_type": "code",
   "execution_count": 10,
   "id": "1c81beb3",
   "metadata": {},
   "outputs": [],
   "source": [
    "mean_value = round(retail['Satisfaction_Score'].mean())\n",
    "retail['Satisfaction_Score'] = retail['Satisfaction_Score'].fillna(mean_value).astype(int)"
   ]
  },
  {
   "cell_type": "code",
   "execution_count": 11,
   "id": "e4d83ca2",
   "metadata": {},
   "outputs": [
    {
     "data": {
      "text/plain": [
       "Customer_ID                   0\n",
       "Age                           0\n",
       "Gender                        0\n",
       "Annual_Income                 0\n",
       "Total_Spend                   0\n",
       "Years_as_Customer             0\n",
       "Num_of_Purchases              0\n",
       "Average_Transaction_Amount    0\n",
       "Num_of_Returns                0\n",
       "Num_of_Support_Contacts       0\n",
       "Satisfaction_Score            0\n",
       "Last_Purchase_Days_Ago        0\n",
       "Email_Opt_In                  0\n",
       "Promotion_Response            0\n",
       "Target_Churn                  0\n",
       "dtype: int64"
      ]
     },
     "execution_count": 11,
     "metadata": {},
     "output_type": "execute_result"
    }
   ],
   "source": [
    "retail.isnull().sum()"
   ]
  },
  {
   "cell_type": "code",
   "execution_count": 12,
   "id": "612771ee",
   "metadata": {},
   "outputs": [],
   "source": [
    "retail['Num_of_Purchases'] = retail['Num_of_Purchases'].astype(int)\n",
    "retail['Satisfaction_Score'] = retail['Satisfaction_Score'].astype(int)"
   ]
  },
  {
   "cell_type": "code",
   "execution_count": 55,
   "id": "585e0f55",
   "metadata": {},
   "outputs": [
    {
     "data": {
      "text/plain": [
       "Customer_ID                     int64\n",
       "Age                             int64\n",
       "Gender                         object\n",
       "Annual_Income                 float64\n",
       "Total_Spend                   float64\n",
       "Years_as_Customer               int64\n",
       "Num_of_Purchases                int32\n",
       "Average_Transaction_Amount    float64\n",
       "Num_of_Returns                  int64\n",
       "Num_of_Support_Contacts         int64\n",
       "Satisfaction_Score              int32\n",
       "Last_Purchase_Days_Ago          int64\n",
       "Email_Opt_In                     bool\n",
       "Promotion_Response             object\n",
       "Target_Churn                     bool\n",
       "dtype: object"
      ]
     },
     "execution_count": 55,
     "metadata": {},
     "output_type": "execute_result"
    }
   ],
   "source": [
    "retail.dtypes"
   ]
  },
  {
   "cell_type": "markdown",
   "id": "519c0f7e",
   "metadata": {},
   "source": [
    "### We will be doing some analysis regarding how different fields impact customer churn."
   ]
  },
  {
   "cell_type": "markdown",
   "id": "a31584b9",
   "metadata": {},
   "source": [
    "### Age wise analyis of Target Churn"
   ]
  },
  {
   "cell_type": "code",
   "execution_count": 102,
   "id": "644fe206",
   "metadata": {},
   "outputs": [
    {
     "data": {
      "text/html": [
       "<div>\n",
       "<style scoped>\n",
       "    .dataframe tbody tr th:only-of-type {\n",
       "        vertical-align: middle;\n",
       "    }\n",
       "\n",
       "    .dataframe tbody tr th {\n",
       "        vertical-align: top;\n",
       "    }\n",
       "\n",
       "    .dataframe thead th {\n",
       "        text-align: right;\n",
       "    }\n",
       "</style>\n",
       "<table border=\"1\" class=\"dataframe\">\n",
       "  <thead>\n",
       "    <tr style=\"text-align: right;\">\n",
       "      <th></th>\n",
       "      <th>Age</th>\n",
       "    </tr>\n",
       "    <tr>\n",
       "      <th>Target_Churn</th>\n",
       "      <th></th>\n",
       "    </tr>\n",
       "  </thead>\n",
       "  <tbody>\n",
       "    <tr>\n",
       "      <th>False</th>\n",
       "      <td>44.874116</td>\n",
       "    </tr>\n",
       "    <tr>\n",
       "      <th>True</th>\n",
       "      <td>39.389078</td>\n",
       "    </tr>\n",
       "  </tbody>\n",
       "</table>\n",
       "</div>"
      ],
      "text/plain": [
       "                    Age\n",
       "Target_Churn           \n",
       "False         44.874116\n",
       "True          39.389078"
      ]
     },
     "execution_count": 102,
     "metadata": {},
     "output_type": "execute_result"
    },
    {
     "data": {
      "image/png": "[encoded data removed]",
      "text/plain": [
       "<Figure size 432x288 with 1 Axes>"
      ]
     },
     "metadata": {
      "needs_background": "light"
     },
     "output_type": "display_data"
    }
   ],
   "source": [
    "Age_Group=retail.groupby(['Age','Target_Churn'])['Customer_ID'].count()\n",
    "Age_Group = Age_Group.unstack('Target_Churn')\n",
    "Age_Group.plot(kind='line')\n",
    "plt.xlabel('Age')\n",
    "plt.ylabel('Total No. of Customers')\n",
    "plt.legend(title='Target_Churn')\n",
    "\n",
    "retail.groupby('Target_Churn')['Age'].mean().to_frame()\n"
   ]
  },
  {
   "cell_type": "markdown",
   "id": "1cd06a3a",
   "metadata": {},
   "source": [
    "On average, customers who have churned are about 5.5 years younger than those who have not.\n",
    "\n",
    "We observe that younger customers are more likely to churn out , probably due to different needs, preferences, or levels of brand loyalty compared to older customers."
   ]
  },
  {
   "cell_type": "code",
   "execution_count": 103,
   "id": "74d86174",
   "metadata": {},
   "outputs": [
    {
     "data": {
      "image/png": "[encoded data removed]",
      "text/plain": [
       "<Figure size 432x288 with 1 Axes>"
      ]
     },
     "metadata": {
      "needs_background": "light"
     },
     "output_type": "display_data"
    }
   ],
   "source": [
    "df=Age_Group.reset_index()\n",
    "df['Retention Ratio']=df[False]/(df [False]+df[True]) \n",
    "plt.plot(df['Age'],df['Retention Ratio'])\n",
    "plt.xlabel('Age')\n",
    "plt.ylabel('Retention Ratio')\n",
    "plt.grid()\n",
    "plt.show()\n"
   ]
  },
  {
   "cell_type": "markdown",
   "id": "8d9c4274",
   "metadata": {},
   "source": [
    "### Retention Ratios"
   ]
  },
  {
   "cell_type": "markdown",
   "id": "5e6a09d7",
   "metadata": {},
   "source": [
    "#### Retention ratio is a key metric used in customer churn analysis to measure the proportion of customers who continue to do business with a company over a specific period. We have calculated that using (No. of customers who did not churn out)/(Total No. of customers)."
   ]
  },
  {
   "cell_type": "markdown",
   "id": "c7eed122",
   "metadata": {},
   "source": [
    "In this dataset we observe:\n",
    "\n",
    "Younger age groups (below 20) show lower retention ratios, which might suggest that younger customers are less likely to be retained.\n",
    ".\n",
    "\n",
    "Middle-aged groups (30 to 50) tend to have higher retention ratios, possibly indicating stronger brand loyalty or satisfaction in this demographic."
   ]
  },
  {
   "cell_type": "markdown",
   "id": "dbbfb96b",
   "metadata": {},
   "source": [
    "### Gender wise analyis of Target Churn"
   ]
  },
  {
   "cell_type": "code",
   "execution_count": 23,
   "id": "9efab1d1",
   "metadata": {},
   "outputs": [
    {
     "data": {
      "image/png": "[encoded data removed]",
      "text/plain": [
       "<Figure size 216x144 with 1 Axes>"
      ]
     },
     "metadata": {
      "needs_background": "light"
     },
     "output_type": "display_data"
    },
    {
     "data": {
      "text/html": [
       "<div>\n",
       "<style scoped>\n",
       "    .dataframe tbody tr th:only-of-type {\n",
       "        vertical-align: middle;\n",
       "    }\n",
       "\n",
       "    .dataframe tbody tr th {\n",
       "        vertical-align: top;\n",
       "    }\n",
       "\n",
       "    .dataframe thead th {\n",
       "        text-align: right;\n",
       "    }\n",
       "</style>\n",
       "<table border=\"1\" class=\"dataframe\">\n",
       "  <thead>\n",
       "    <tr style=\"text-align: right;\">\n",
       "      <th>Target_Churn</th>\n",
       "      <th>False</th>\n",
       "      <th>True</th>\n",
       "      <th>Retention Ratio</th>\n",
       "    </tr>\n",
       "    <tr>\n",
       "      <th>Gender</th>\n",
       "      <th></th>\n",
       "      <th></th>\n",
       "      <th></th>\n",
       "    </tr>\n",
       "  </thead>\n",
       "  <tbody>\n",
       "    <tr>\n",
       "      <th>Female</th>\n",
       "      <td>247</td>\n",
       "      <td>95</td>\n",
       "      <td>0.722222</td>\n",
       "    </tr>\n",
       "    <tr>\n",
       "      <th>Male</th>\n",
       "      <td>245</td>\n",
       "      <td>89</td>\n",
       "      <td>0.733533</td>\n",
       "    </tr>\n",
       "    <tr>\n",
       "      <th>Other</th>\n",
       "      <td>215</td>\n",
       "      <td>109</td>\n",
       "      <td>0.663580</td>\n",
       "    </tr>\n",
       "  </tbody>\n",
       "</table>\n",
       "</div>"
      ],
      "text/plain": [
       "Target_Churn  False  True  Retention Ratio\n",
       "Gender                                    \n",
       "Female          247    95         0.722222\n",
       "Male            245    89         0.733533\n",
       "Other           215   109         0.663580"
      ]
     },
     "execution_count": 23,
     "metadata": {},
     "output_type": "execute_result"
    }
   ],
   "source": [
    "gender_grouped_by=retail.groupby(['Gender','Target_Churn'])['Customer_ID'].count().to_frame()\n",
    "gender_grouped_by.rename(columns={'Customer_ID': 'Total Customers'}, inplace=True)\n",
    "gender_grouped_by\n",
    "gender_grouped_by_reset = gender_grouped_by.reset_index()\n",
    "pivot_gender = gender_grouped_by_reset.pivot(index='Gender', columns='Target_Churn', values='Total Customers')\n",
    "pivot_gender\n",
    "pivot_gender['Retention Ratio']=pivot_gender[False]/(pivot_gender[False]+pivot_gender[True]) \n",
    "plt.figure(figsize=(3, 2)) \n",
    "plt.bar(pivot_gender.index,pivot_gender['Retention Ratio'],width=0.3)\n",
    "plt.xlabel('Gender')\n",
    "plt.ylabel('Retention Ratio') \n",
    "plt.show()\n",
    "pivot_gender"
   ]
  },
  {
   "cell_type": "markdown",
   "id": "673c3d6f",
   "metadata": {},
   "source": [
    "We observe that the difference between Male and Female retention is minimal.\n",
    "\n",
    "The notably lower retention among the \"Other\" gender group may suggest the need for more inclusive engagement strategies or further investigation into their unique experiences and needs."
   ]
  },
  {
   "cell_type": "markdown",
   "id": "24df23fb",
   "metadata": {},
   "source": [
    "### Satisfaction Score"
   ]
  },
  {
   "cell_type": "code",
   "execution_count": 24,
   "id": "fb7c6f6b",
   "metadata": {},
   "outputs": [
    {
     "data": {
      "image/png": "[encoded data removed]",
      "text/plain": [
       "<Figure size 432x288 with 1 Axes>"
      ]
     },
     "metadata": {
      "needs_background": "light"
     },
     "output_type": "display_data"
    },
    {
     "data": {
      "text/html": [
       "<div>\n",
       "<style scoped>\n",
       "    .dataframe tbody tr th:only-of-type {\n",
       "        vertical-align: middle;\n",
       "    }\n",
       "\n",
       "    .dataframe tbody tr th {\n",
       "        vertical-align: top;\n",
       "    }\n",
       "\n",
       "    .dataframe thead th {\n",
       "        text-align: right;\n",
       "    }\n",
       "</style>\n",
       "<table border=\"1\" class=\"dataframe\">\n",
       "  <thead>\n",
       "    <tr style=\"text-align: right;\">\n",
       "      <th></th>\n",
       "      <th>Satisfaction_Score</th>\n",
       "    </tr>\n",
       "    <tr>\n",
       "      <th>Target_Churn</th>\n",
       "      <th></th>\n",
       "    </tr>\n",
       "  </thead>\n",
       "  <tbody>\n",
       "    <tr>\n",
       "      <th>False</th>\n",
       "      <td>3.195191</td>\n",
       "    </tr>\n",
       "    <tr>\n",
       "      <th>True</th>\n",
       "      <td>2.443686</td>\n",
       "    </tr>\n",
       "  </tbody>\n",
       "</table>\n",
       "</div>"
      ],
      "text/plain": [
       "              Satisfaction_Score\n",
       "Target_Churn                    \n",
       "False                   3.195191\n",
       "True                    2.443686"
      ]
     },
     "execution_count": 24,
     "metadata": {},
     "output_type": "execute_result"
    }
   ],
   "source": [
    "\n",
    "grouped=retail.groupby('Target_Churn')['Satisfaction_Score'].mean()\n",
    "plt.bar(grouped.index.astype(str),grouped.values,width=0.8)\n",
    "plt.xlabel('Churn')\n",
    "plt.ylabel('Satisfaction_Score')\n",
    "plt.show()\n",
    "retail.groupby('Target_Churn')['Satisfaction_Score'].mean().to_frame()\n"
   ]
  },
  {
   "cell_type": "markdown",
   "id": "958dcec8",
   "metadata": {},
   "source": [
    "\n",
    "\n",
    "We observe that churned customers are less satisfied.\n",
    "\n",
    "Satisfaction is linked to retention: Higher satisfaction appears to correlate with lower churn, suggesting that improving customer satisfaction could be an effective strategy to reduce churn."
   ]
  },
  {
   "cell_type": "markdown",
   "id": "e5cf4911",
   "metadata": {},
   "source": [
    "### Email Opt-In "
   ]
  },
  {
   "cell_type": "code",
   "execution_count": 56,
   "id": "89f3b935",
   "metadata": {},
   "outputs": [
    {
     "data": {
      "image/png": "[encoded data removed]",
      "text/plain": [
       "<Figure size 216x144 with 1 Axes>"
      ]
     },
     "metadata": {
      "needs_background": "light"
     },
     "output_type": "display_data"
    },
    {
     "data": {
      "text/html": [
       "<div>\n",
       "<style scoped>\n",
       "    .dataframe tbody tr th:only-of-type {\n",
       "        vertical-align: middle;\n",
       "    }\n",
       "\n",
       "    .dataframe tbody tr th {\n",
       "        vertical-align: top;\n",
       "    }\n",
       "\n",
       "    .dataframe thead th {\n",
       "        text-align: right;\n",
       "    }\n",
       "</style>\n",
       "<table border=\"1\" class=\"dataframe\">\n",
       "  <thead>\n",
       "    <tr style=\"text-align: right;\">\n",
       "      <th>Target_Churn</th>\n",
       "      <th>False</th>\n",
       "      <th>True</th>\n",
       "      <th>Retention Ratio</th>\n",
       "    </tr>\n",
       "    <tr>\n",
       "      <th>Email_Opt_In</th>\n",
       "      <th></th>\n",
       "      <th></th>\n",
       "      <th></th>\n",
       "    </tr>\n",
       "  </thead>\n",
       "  <tbody>\n",
       "    <tr>\n",
       "      <th>False</th>\n",
       "      <td>315</td>\n",
       "      <td>153</td>\n",
       "      <td>0.673077</td>\n",
       "    </tr>\n",
       "    <tr>\n",
       "      <th>True</th>\n",
       "      <td>392</td>\n",
       "      <td>140</td>\n",
       "      <td>0.736842</td>\n",
       "    </tr>\n",
       "  </tbody>\n",
       "</table>\n",
       "</div>"
      ],
      "text/plain": [
       "Target_Churn  False  True  Retention Ratio\n",
       "Email_Opt_In                              \n",
       "False           315   153         0.673077\n",
       "True            392   140         0.736842"
      ]
     },
     "execution_count": 56,
     "metadata": {},
     "output_type": "execute_result"
    }
   ],
   "source": [
    "email_grouped_by=retail.groupby(['Email_Opt_In','Target_Churn'])['Customer_ID'].count().to_frame()\n",
    "email_grouped_by.rename(columns={'Customer_ID': 'Total Customers'}, inplace=True)\n",
    "email_grouped_by\n",
    "email_grouped_by_reset = email_grouped_by.reset_index()\n",
    "pivot_email = email_grouped_by_reset.pivot(index='Email_Opt_In', columns='Target_Churn', values='Total Customers')\n",
    "pivot_email['Retention Ratio']=pivot_email[False]/(pivot_email[False]+pivot_email[True]) \n",
    "\n",
    "plt.figure(figsize=(3, 2)) \n",
    "plt.bar(pivot_email.index,pivot_email['Retention Ratio'],width=0.3)\n",
    "plt.xlabel('Email Opt In')\n",
    "plt.ylabel('Retention Ratio') \n",
    "plt.xticks([False, True], ['No', 'Yes'])\n",
    "plt.show()\n",
    "pivot_email"
   ]
  },
  {
   "cell_type": "markdown",
   "id": "5dfd35a5",
   "metadata": {},
   "source": [
    "The data suggests that email opt-in is associated with a higher retention ratio. However, difference is not much. \n",
    "\n",
    "Customers who opt-in for emails are slightly more likely to stay loyal with the company compared to those who do not."
   ]
  },
  {
   "cell_type": "markdown",
   "id": "6cff61b9",
   "metadata": {},
   "source": [
    "### Number of Returns"
   ]
  },
  {
   "cell_type": "code",
   "execution_count": 59,
   "id": "73da56ab",
   "metadata": {},
   "outputs": [
    {
     "data": {
      "image/png": "[encoded data removed]",
      "text/plain": [
       "<Figure size 432x288 with 1 Axes>"
      ]
     },
     "metadata": {
      "needs_background": "light"
     },
     "output_type": "display_data"
    }
   ],
   "source": [
    "group=retail.groupby(['Num_of_Returns','Target_Churn'])['Customer_ID'].count().to_frame()\n",
    "grouped_unstacked = group.unstack('Target_Churn')\n",
    "\n",
    "grouped_unstacked.columns = grouped_unstacked.columns.droplevel(0)\n",
    "grouped_unstacked.plot(kind='line')\n",
    "plt.xlabel('No. of Returns')\n",
    "plt.ylabel('Total Customers')\n",
    "plt.title('Total Customers vs No. of Returns for each Target Churn')\n",
    "plt.legend(title='Target Churn')\n",
    "plt.tight_layout()\n",
    "plt.show()\n",
    "\n",
    "##retail.groupby(['Num_of_Returns','Target_Churn'])['Customer_ID'].count().to_frame()"
   ]
  },
  {
   "cell_type": "markdown",
   "id": "e18ba6c0",
   "metadata": {},
   "source": [
    "The graph shows the relationship between the number of returns and total customers for each target churn category."
   ]
  },
  {
   "cell_type": "code",
   "execution_count": 104,
   "id": "ccbabc6c",
   "metadata": {},
   "outputs": [
    {
     "data": {
      "image/png": "[encoded data removed]",
      "text/plain": [
       "<Figure size 432x288 with 1 Axes>"
      ]
     },
     "metadata": {
      "needs_background": "light"
     },
     "output_type": "display_data"
    }
   ],
   "source": [
    "grouped_unstacked ['Retention Ratio']=grouped_unstacked[False]/(grouped_unstacked [False]+grouped_unstacked [True]) \n",
    "df=grouped_unstacked.reset_index()\n",
    "plt.plot(df['Num_of_Returns'],df['Retention Ratio'])\n",
    "plt.xlabel('No. of returned items')\n",
    "plt.ylabel('Retention Ratio')\n",
    "plt.grid()\n",
    "plt.show()"
   ]
  },
  {
   "cell_type": "markdown",
   "id": "f8a1021f",
   "metadata": {},
   "source": [
    " We observe that the retention ratio is highest when there are no returned items.The retention ratio fluctuates as the number of returned items increases, with a notable dip at around 4 returned items. \n",
    " \n",
    " The behavior of retention ratio is pretty inconsistent. It keeps fluctuating drastically as the number of returned items increase."
   ]
  },
  {
   "cell_type": "markdown",
   "id": "0ce8d34b",
   "metadata": {},
   "source": [
    "### Years as customer"
   ]
  },
  {
   "cell_type": "code",
   "execution_count": 54,
   "id": "adf6c97f",
   "metadata": {},
   "outputs": [
    {
     "data": {
      "image/png": "[encoded data removed]",
      "text/plain": [
       "<Figure size 432x288 with 1 Axes>"
      ]
     },
     "metadata": {
      "needs_background": "light"
     },
     "output_type": "display_data"
    }
   ],
   "source": [
    "years_as_customers=retail.groupby(['Years_as_Customer','Target_Churn'])['Customer_ID'].count().to_frame()\n",
    "years_as_customers_unstacked = years_as_customers.unstack('Target_Churn')\n",
    "years_as_customers_unstacked.columns = years_as_customers_unstacked.columns.droplevel(0)\n",
    "years_as_customers_unstacked.plot(kind='line')\n",
    "plt.xlabel('Total no. of years as customer')\n",
    "plt.ylabel('Total No. of Customers')\n",
    "plt.legend(title='Target Churn')\n",
    "max_x = years_as_customers_unstacked.index.max()\n",
    "plt.xticks(np.arange(0, max_x + 2, 2))\n",
    "plt.show()\n",
    "\n"
   ]
  },
  {
   "cell_type": "markdown",
   "id": "bcbf0404",
   "metadata": {},
   "source": [
    "The graph shows the relationship between the total number of years someone has been a customer and total customers for each target churn category."
   ]
  },
  {
   "cell_type": "markdown",
   "id": "fc6cd694",
   "metadata": {},
   "source": [
    "We observe that churn is most prevalent in the early years, which decreases as the number of years increase."
   ]
  },
  {
   "cell_type": "code",
   "execution_count": 112,
   "id": "afa51c3d",
   "metadata": {},
   "outputs": [
    {
     "data": {
      "image/png": "[encoded data removed]",
      "text/plain": [
       "<Figure size 432x288 with 1 Axes>"
      ]
     },
     "metadata": {
      "needs_background": "light"
     },
     "output_type": "display_data"
    }
   ],
   "source": [
    "df=years_as_customers_unstacked.reset_index()\n",
    "df['Retention Ratio']=df[False]/(df [False]+df[True]) \n",
    "plt.plot(df['Years_as_Customer'],df['Retention Ratio'])\n",
    "plt.xlabel('Total no. of years as customer')\n",
    "plt.ylabel('Retention Ratio')\n",
    "plt.xticks(np.arange(0, 22, 2))\n",
    "plt.grid()\n",
    "plt.show()"
   ]
  },
  {
   "cell_type": "markdown",
   "id": "c88c42fb",
   "metadata": {},
   "source": [
    "The sharp increase in retention ratio in the early years suggests the importance of initial customer engagement and satisfaction."
   ]
  },
  {
   "cell_type": "markdown",
   "id": "a914c216",
   "metadata": {},
   "source": [
    "The fluctuations in the mid-term indicate potential variability in customer loyalty, possibly due to changes in service or offerings.\n",
    "\n",
    " The upward trend in later years suggests that long-term customers tend to have higher retention ratios, highlighting the value of fostering long-term relationships."
   ]
  },
  {
   "cell_type": "markdown",
   "id": "634d8a14",
   "metadata": {},
   "source": [
    "### Number of Purchases"
   ]
  },
  {
   "cell_type": "code",
   "execution_count": 98,
   "id": "0a4098b3",
   "metadata": {},
   "outputs": [
    {
     "data": {
      "image/png": "[encoded data removed]",
      "text/plain": [
       "<Figure size 432x288 with 1 Axes>"
      ]
     },
     "metadata": {
      "needs_background": "light"
     },
     "output_type": "display_data"
    }
   ],
   "source": [
    "Num_Purchases=retail.groupby(['Num_of_Purchases','Target_Churn'])['Customer_ID'].count().to_frame()\n",
    "Num_Purchases_unstacked = Num_Purchases.unstack('Target_Churn')\n",
    "Num_Purchases_unstacked.columns = Num_Purchases_unstacked.columns.droplevel(0)\n",
    "Num_Purchases_unstacked.plot(kind='line')\n",
    "plt.xlabel('Number of purchases')\n",
    "plt.ylabel('Total No. of Customers')\n",
    "plt.legend(title='Target Churn')\n",
    "max_x = Num_Purchases_unstacked.index.max()\n",
    "plt.show()\n"
   ]
  },
  {
   "cell_type": "code",
   "execution_count": 113,
   "id": "684d0332",
   "metadata": {},
   "outputs": [
    {
     "data": {
      "image/png": "[encoded data removed]",
      "text/plain": [
       "<Figure size 432x288 with 1 Axes>"
      ]
     },
     "metadata": {
      "needs_background": "light"
     },
     "output_type": "display_data"
    }
   ],
   "source": [
    "df=Num_Purchases_unstacked.reset_index()\n",
    "df\n",
    "df['Retention Ratio']=df[False]/(df [False]+df[True]) \n",
    "plt.plot(df['Num_of_Purchases'],df['Retention Ratio'])\n",
    "plt.xlabel('Total number of purchases')\n",
    "plt.ylabel('Retention Ratio')\n",
    "plt.grid()\n",
    "plt.show()"
   ]
  },
  {
   "cell_type": "markdown",
   "id": "a898fb5d",
   "metadata": {},
   "source": [
    "The two graphs above indicate that there isn't a storong relationship between the total number of purchases made by a customer and their likelihood of churn. \n",
    "\n",
    "In other words, simply increasing the number of purchases does not appear to have a significant impact on whether a customer will remain loyal or eventually leave. "
   ]
  },
  {
   "cell_type": "markdown",
   "id": "5fdb418c",
   "metadata": {},
   "source": [
    "### Promotion Response"
   ]
  },
  {
   "cell_type": "code",
   "execution_count": 280,
   "id": "775d9902",
   "metadata": {},
   "outputs": [
    {
     "data": {
      "image/png": "[encoded data removed]",
      "text/plain": [
       "<Figure size 216x144 with 1 Axes>"
      ]
     },
     "metadata": {
      "needs_background": "light"
     },
     "output_type": "display_data"
    },
    {
     "data": {
      "text/html": [
       "<div>\n",
       "<style scoped>\n",
       "    .dataframe tbody tr th:only-of-type {\n",
       "        vertical-align: middle;\n",
       "    }\n",
       "\n",
       "    .dataframe tbody tr th {\n",
       "        vertical-align: top;\n",
       "    }\n",
       "\n",
       "    .dataframe thead th {\n",
       "        text-align: right;\n",
       "    }\n",
       "</style>\n",
       "<table border=\"1\" class=\"dataframe\">\n",
       "  <thead>\n",
       "    <tr style=\"text-align: right;\">\n",
       "      <th>Target_Churn</th>\n",
       "      <th>False</th>\n",
       "      <th>True</th>\n",
       "      <th>Retention Ratio</th>\n",
       "    </tr>\n",
       "    <tr>\n",
       "      <th>Promotion_Response</th>\n",
       "      <th></th>\n",
       "      <th></th>\n",
       "      <th></th>\n",
       "    </tr>\n",
       "  </thead>\n",
       "  <tbody>\n",
       "    <tr>\n",
       "      <th>Ignored</th>\n",
       "      <td>215</td>\n",
       "      <td>84</td>\n",
       "      <td>0.719064</td>\n",
       "    </tr>\n",
       "    <tr>\n",
       "      <th>Responded</th>\n",
       "      <td>228</td>\n",
       "      <td>108</td>\n",
       "      <td>0.678571</td>\n",
       "    </tr>\n",
       "    <tr>\n",
       "      <th>Unsubscribed</th>\n",
       "      <td>264</td>\n",
       "      <td>101</td>\n",
       "      <td>0.723288</td>\n",
       "    </tr>\n",
       "  </tbody>\n",
       "</table>\n",
       "</div>"
      ],
      "text/plain": [
       "Target_Churn        False  True  Retention Ratio\n",
       "Promotion_Response                              \n",
       "Ignored               215    84         0.719064\n",
       "Responded             228   108         0.678571\n",
       "Unsubscribed          264   101         0.723288"
      ]
     },
     "execution_count": 280,
     "metadata": {},
     "output_type": "execute_result"
    }
   ],
   "source": [
    "PromotionResponse_groupedby=retail.groupby(['Promotion_Response','Target_Churn'])['Customer_ID'].count().to_frame()\n",
    "PromotionResponse_groupedby.rename(columns={'Customer_ID': 'Total Customers'}, inplace=True)\n",
    "PromotionResponse_groupedby_reset = PromotionResponse_groupedby.reset_index()\n",
    "pivot_PromotionResponse = PromotionResponse_groupedby_reset.pivot(index='Promotion_Response', columns='Target_Churn', values='Total Customers')\n",
    "pivot_PromotionResponse['Retention Ratio']=pivot_PromotionResponse[False]/(pivot_PromotionResponse[False]+pivot_PromotionResponse[True]) \n",
    "plt.figure(figsize=(3, 2)) \n",
    "plt.bar(pivot_PromotionResponse.index,pivot_PromotionResponse['Retention Ratio'],width=0.3)\n",
    "plt.xlabel('Promotion Response')\n",
    "plt.ylabel('Retention Ratio') \n",
    "plt.show()\n",
    "pivot_PromotionResponse\n"
   ]
  },
  {
   "cell_type": "markdown",
   "id": "8a53e53c",
   "metadata": {},
   "source": [
    "The data suggests that ignoring or unsubscribing from promotions is associated with higher retention rates compared to responding. It indicates that current promotional strategies may be ineffective, highlighting the need for more targeted and engaging promotional efforts to enhance customer retention and reduce churn rates."
   ]
  },
  {
   "cell_type": "markdown",
   "id": "91ed3271",
   "metadata": {},
   "source": [
    "## Correlation"
   ]
  },
  {
   "cell_type": "markdown",
   "id": "b8b62929",
   "metadata": {},
   "source": [
    "Here we try to check whether there are any redundant features. Features that are highly correlated with each other may provide redundant information. Removing or combining such features can simplify the model and reduce overfitting."
   ]
  },
  {
   "cell_type": "code",
   "execution_count": 284,
   "id": "e13dd271",
   "metadata": {},
   "outputs": [
    {
     "data": {
      "text/html": [
       "<div>\n",
       "<style scoped>\n",
       "    .dataframe tbody tr th:only-of-type {\n",
       "        vertical-align: middle;\n",
       "    }\n",
       "\n",
       "    .dataframe tbody tr th {\n",
       "        vertical-align: top;\n",
       "    }\n",
       "\n",
       "    .dataframe thead th {\n",
       "        text-align: right;\n",
       "    }\n",
       "</style>\n",
       "<table border=\"1\" class=\"dataframe\">\n",
       "  <thead>\n",
       "    <tr style=\"text-align: right;\">\n",
       "      <th></th>\n",
       "      <th>Customer_ID</th>\n",
       "      <th>Age</th>\n",
       "      <th>Annual_Income</th>\n",
       "      <th>Total_Spend</th>\n",
       "      <th>Years_as_Customer</th>\n",
       "      <th>Num_of_Purchases</th>\n",
       "      <th>Average_Transaction_Amount</th>\n",
       "      <th>Num_of_Returns</th>\n",
       "      <th>Num_of_Support_Contacts</th>\n",
       "      <th>Satisfaction_Score</th>\n",
       "      <th>Last_Purchase_Days_Ago</th>\n",
       "      <th>Email_Opt_In</th>\n",
       "      <th>Target_Churn</th>\n",
       "    </tr>\n",
       "  </thead>\n",
       "  <tbody>\n",
       "    <tr>\n",
       "      <th>Customer_ID</th>\n",
       "      <td>1.000000</td>\n",
       "      <td>0.008962</td>\n",
       "      <td>-0.026498</td>\n",
       "      <td>-0.015484</td>\n",
       "      <td>-0.018746</td>\n",
       "      <td>0.018785</td>\n",
       "      <td>-0.014022</td>\n",
       "      <td>0.000433</td>\n",
       "      <td>-0.044346</td>\n",
       "      <td>0.023437</td>\n",
       "      <td>-0.009129</td>\n",
       "      <td>0.010428</td>\n",
       "      <td>0.079928</td>\n",
       "    </tr>\n",
       "    <tr>\n",
       "      <th>Age</th>\n",
       "      <td>0.008962</td>\n",
       "      <td>1.000000</td>\n",
       "      <td>0.038757</td>\n",
       "      <td>-0.033285</td>\n",
       "      <td>-0.024781</td>\n",
       "      <td>0.035109</td>\n",
       "      <td>0.007184</td>\n",
       "      <td>0.000331</td>\n",
       "      <td>-0.021226</td>\n",
       "      <td>0.019669</td>\n",
       "      <td>0.009790</td>\n",
       "      <td>-0.000269</td>\n",
       "      <td>-0.163866</td>\n",
       "    </tr>\n",
       "    <tr>\n",
       "      <th>Annual_Income</th>\n",
       "      <td>-0.026498</td>\n",
       "      <td>0.038757</td>\n",
       "      <td>1.000000</td>\n",
       "      <td>0.014436</td>\n",
       "      <td>-0.030301</td>\n",
       "      <td>0.021567</td>\n",
       "      <td>0.004925</td>\n",
       "      <td>0.039382</td>\n",
       "      <td>0.018577</td>\n",
       "      <td>0.015124</td>\n",
       "      <td>0.034668</td>\n",
       "      <td>0.004268</td>\n",
       "      <td>-0.047899</td>\n",
       "    </tr>\n",
       "    <tr>\n",
       "      <th>Total_Spend</th>\n",
       "      <td>-0.015484</td>\n",
       "      <td>-0.033285</td>\n",
       "      <td>0.014436</td>\n",
       "      <td>1.000000</td>\n",
       "      <td>0.037125</td>\n",
       "      <td>0.048856</td>\n",
       "      <td>-0.086144</td>\n",
       "      <td>0.010103</td>\n",
       "      <td>-0.036756</td>\n",
       "      <td>-0.004437</td>\n",
       "      <td>-0.038241</td>\n",
       "      <td>0.031414</td>\n",
       "      <td>0.023097</td>\n",
       "    </tr>\n",
       "    <tr>\n",
       "      <th>Years_as_Customer</th>\n",
       "      <td>-0.018746</td>\n",
       "      <td>-0.024781</td>\n",
       "      <td>-0.030301</td>\n",
       "      <td>0.037125</td>\n",
       "      <td>1.000000</td>\n",
       "      <td>0.021315</td>\n",
       "      <td>-0.021645</td>\n",
       "      <td>0.042259</td>\n",
       "      <td>-0.008638</td>\n",
       "      <td>-0.030330</td>\n",
       "      <td>-0.011783</td>\n",
       "      <td>-0.040478</td>\n",
       "      <td>-0.164385</td>\n",
       "    </tr>\n",
       "    <tr>\n",
       "      <th>Num_of_Purchases</th>\n",
       "      <td>0.018785</td>\n",
       "      <td>0.035109</td>\n",
       "      <td>0.021567</td>\n",
       "      <td>0.048856</td>\n",
       "      <td>0.021315</td>\n",
       "      <td>1.000000</td>\n",
       "      <td>-0.014752</td>\n",
       "      <td>-0.002935</td>\n",
       "      <td>0.011702</td>\n",
       "      <td>0.007697</td>\n",
       "      <td>-0.043216</td>\n",
       "      <td>0.010084</td>\n",
       "      <td>-0.003531</td>\n",
       "    </tr>\n",
       "    <tr>\n",
       "      <th>Average_Transaction_Amount</th>\n",
       "      <td>-0.014022</td>\n",
       "      <td>0.007184</td>\n",
       "      <td>0.004925</td>\n",
       "      <td>-0.086144</td>\n",
       "      <td>-0.021645</td>\n",
       "      <td>-0.014752</td>\n",
       "      <td>1.000000</td>\n",
       "      <td>0.013257</td>\n",
       "      <td>0.042396</td>\n",
       "      <td>0.013696</td>\n",
       "      <td>0.034158</td>\n",
       "      <td>-0.029002</td>\n",
       "      <td>-0.041885</td>\n",
       "    </tr>\n",
       "    <tr>\n",
       "      <th>Num_of_Returns</th>\n",
       "      <td>0.000433</td>\n",
       "      <td>0.000331</td>\n",
       "      <td>0.039382</td>\n",
       "      <td>0.010103</td>\n",
       "      <td>0.042259</td>\n",
       "      <td>-0.002935</td>\n",
       "      <td>0.013257</td>\n",
       "      <td>1.000000</td>\n",
       "      <td>0.080650</td>\n",
       "      <td>-0.003411</td>\n",
       "      <td>0.036108</td>\n",
       "      <td>-0.016324</td>\n",
       "      <td>-0.003275</td>\n",
       "    </tr>\n",
       "    <tr>\n",
       "      <th>Num_of_Support_Contacts</th>\n",
       "      <td>-0.044346</td>\n",
       "      <td>-0.021226</td>\n",
       "      <td>0.018577</td>\n",
       "      <td>-0.036756</td>\n",
       "      <td>-0.008638</td>\n",
       "      <td>0.011702</td>\n",
       "      <td>0.042396</td>\n",
       "      <td>0.080650</td>\n",
       "      <td>1.000000</td>\n",
       "      <td>0.034629</td>\n",
       "      <td>-0.023189</td>\n",
       "      <td>0.020172</td>\n",
       "      <td>0.017768</td>\n",
       "    </tr>\n",
       "    <tr>\n",
       "      <th>Satisfaction_Score</th>\n",
       "      <td>0.023437</td>\n",
       "      <td>0.019669</td>\n",
       "      <td>0.015124</td>\n",
       "      <td>-0.004437</td>\n",
       "      <td>-0.030330</td>\n",
       "      <td>0.007697</td>\n",
       "      <td>0.013696</td>\n",
       "      <td>-0.003411</td>\n",
       "      <td>0.034629</td>\n",
       "      <td>1.000000</td>\n",
       "      <td>0.019478</td>\n",
       "      <td>0.049553</td>\n",
       "      <td>-0.246564</td>\n",
       "    </tr>\n",
       "    <tr>\n",
       "      <th>Last_Purchase_Days_Ago</th>\n",
       "      <td>-0.009129</td>\n",
       "      <td>0.009790</td>\n",
       "      <td>0.034668</td>\n",
       "      <td>-0.038241</td>\n",
       "      <td>-0.011783</td>\n",
       "      <td>-0.043216</td>\n",
       "      <td>0.034158</td>\n",
       "      <td>0.036108</td>\n",
       "      <td>-0.023189</td>\n",
       "      <td>0.019478</td>\n",
       "      <td>1.000000</td>\n",
       "      <td>0.023808</td>\n",
       "      <td>0.000995</td>\n",
       "    </tr>\n",
       "    <tr>\n",
       "      <th>Email_Opt_In</th>\n",
       "      <td>0.010428</td>\n",
       "      <td>-0.000269</td>\n",
       "      <td>0.004268</td>\n",
       "      <td>0.031414</td>\n",
       "      <td>-0.040478</td>\n",
       "      <td>0.010084</td>\n",
       "      <td>-0.029002</td>\n",
       "      <td>-0.016324</td>\n",
       "      <td>0.020172</td>\n",
       "      <td>0.049553</td>\n",
       "      <td>0.023808</td>\n",
       "      <td>1.000000</td>\n",
       "      <td>-0.069907</td>\n",
       "    </tr>\n",
       "    <tr>\n",
       "      <th>Target_Churn</th>\n",
       "      <td>0.079928</td>\n",
       "      <td>-0.163866</td>\n",
       "      <td>-0.047899</td>\n",
       "      <td>0.023097</td>\n",
       "      <td>-0.164385</td>\n",
       "      <td>-0.003531</td>\n",
       "      <td>-0.041885</td>\n",
       "      <td>-0.003275</td>\n",
       "      <td>0.017768</td>\n",
       "      <td>-0.246564</td>\n",
       "      <td>0.000995</td>\n",
       "      <td>-0.069907</td>\n",
       "      <td>1.000000</td>\n",
       "    </tr>\n",
       "  </tbody>\n",
       "</table>\n",
       "</div>"
      ],
      "text/plain": [
       "                            Customer_ID       Age  Annual_Income  Total_Spend  \\\n",
       "Customer_ID                    1.000000  0.008962      -0.026498    -0.015484   \n",
       "Age                            0.008962  1.000000       0.038757    -0.033285   \n",
       "Annual_Income                 -0.026498  0.038757       1.000000     0.014436   \n",
       "Total_Spend                   -0.015484 -0.033285       0.014436     1.000000   \n",
       "Years_as_Customer             -0.018746 -0.024781      -0.030301     0.037125   \n",
       "Num_of_Purchases               0.018785  0.035109       0.021567     0.048856   \n",
       "Average_Transaction_Amount    -0.014022  0.007184       0.004925    -0.086144   \n",
       "Num_of_Returns                 0.000433  0.000331       0.039382     0.010103   \n",
       "Num_of_Support_Contacts       -0.044346 -0.021226       0.018577    -0.036756   \n",
       "Satisfaction_Score             0.023437  0.019669       0.015124    -0.004437   \n",
       "Last_Purchase_Days_Ago        -0.009129  0.009790       0.034668    -0.038241   \n",
       "Email_Opt_In                   0.010428 -0.000269       0.004268     0.031414   \n",
       "Target_Churn                   0.079928 -0.163866      -0.047899     0.023097   \n",
       "\n",
       "                            Years_as_Customer  Num_of_Purchases  \\\n",
       "Customer_ID                         -0.018746          0.018785   \n",
       "Age                                 -0.024781          0.035109   \n",
       "Annual_Income                       -0.030301          0.021567   \n",
       "Total_Spend                          0.037125          0.048856   \n",
       "Years_as_Customer                    1.000000          0.021315   \n",
       "Num_of_Purchases                     0.021315          1.000000   \n",
       "Average_Transaction_Amount          -0.021645         -0.014752   \n",
       "Num_of_Returns                       0.042259         -0.002935   \n",
       "Num_of_Support_Contacts             -0.008638          0.011702   \n",
       "Satisfaction_Score                  -0.030330          0.007697   \n",
       "Last_Purchase_Days_Ago              -0.011783         -0.043216   \n",
       "Email_Opt_In                        -0.040478          0.010084   \n",
       "Target_Churn                        -0.164385         -0.003531   \n",
       "\n",
       "                            Average_Transaction_Amount  Num_of_Returns  \\\n",
       "Customer_ID                                  -0.014022        0.000433   \n",
       "Age                                           0.007184        0.000331   \n",
       "Annual_Income                                 0.004925        0.039382   \n",
       "Total_Spend                                  -0.086144        0.010103   \n",
       "Years_as_Customer                            -0.021645        0.042259   \n",
       "Num_of_Purchases                             -0.014752       -0.002935   \n",
       "Average_Transaction_Amount                    1.000000        0.013257   \n",
       "Num_of_Returns                                0.013257        1.000000   \n",
       "Num_of_Support_Contacts                       0.042396        0.080650   \n",
       "Satisfaction_Score                            0.013696       -0.003411   \n",
       "Last_Purchase_Days_Ago                        0.034158        0.036108   \n",
       "Email_Opt_In                                 -0.029002       -0.016324   \n",
       "Target_Churn                                 -0.041885       -0.003275   \n",
       "\n",
       "                            Num_of_Support_Contacts  Satisfaction_Score  \\\n",
       "Customer_ID                               -0.044346            0.023437   \n",
       "Age                                       -0.021226            0.019669   \n",
       "Annual_Income                              0.018577            0.015124   \n",
       "Total_Spend                               -0.036756           -0.004437   \n",
       "Years_as_Customer                         -0.008638           -0.030330   \n",
       "Num_of_Purchases                           0.011702            0.007697   \n",
       "Average_Transaction_Amount                 0.042396            0.013696   \n",
       "Num_of_Returns                             0.080650           -0.003411   \n",
       "Num_of_Support_Contacts                    1.000000            0.034629   \n",
       "Satisfaction_Score                         0.034629            1.000000   \n",
       "Last_Purchase_Days_Ago                    -0.023189            0.019478   \n",
       "Email_Opt_In                               0.020172            0.049553   \n",
       "Target_Churn                               0.017768           -0.246564   \n",
       "\n",
       "                            Last_Purchase_Days_Ago  Email_Opt_In  Target_Churn  \n",
       "Customer_ID                              -0.009129      0.010428      0.079928  \n",
       "Age                                       0.009790     -0.000269     -0.163866  \n",
       "Annual_Income                             0.034668      0.004268     -0.047899  \n",
       "Total_Spend                              -0.038241      0.031414      0.023097  \n",
       "Years_as_Customer                        -0.011783     -0.040478     -0.164385  \n",
       "Num_of_Purchases                         -0.043216      0.010084     -0.003531  \n",
       "Average_Transaction_Amount                0.034158     -0.029002     -0.041885  \n",
       "Num_of_Returns                            0.036108     -0.016324     -0.003275  \n",
       "Num_of_Support_Contacts                  -0.023189      0.020172      0.017768  \n",
       "Satisfaction_Score                        0.019478      0.049553     -0.246564  \n",
       "Last_Purchase_Days_Ago                    1.000000      0.023808      0.000995  \n",
       "Email_Opt_In                              0.023808      1.000000     -0.069907  \n",
       "Target_Churn                              0.000995     -0.069907      1.000000  "
      ]
     },
     "execution_count": 284,
     "metadata": {},
     "output_type": "execute_result"
    },
    {
     "data": {
      "image/png": "[encoded data removed]",
      "text/plain": [
       "<Figure size 1008x720 with 2 Axes>"
      ]
     },
     "metadata": {
      "needs_background": "light"
     },
     "output_type": "display_data"
    }
   ],
   "source": [
    "plt.figure(figsize=(14, 10))\n",
    "corr=retail.corr()\n",
    "sns.heatmap(corr,cmap=\"YlOrRd\",annot=True)\n",
    "corr\n",
    "## we are using this annot=true so that the values are within the boxes"
   ]
  },
  {
   "cell_type": "markdown",
   "id": "a4476c79",
   "metadata": {},
   "source": [
    "It is observed that there are no features that are highly correlated with each other. So we are good to continue with the existing ones."
   ]
  },
  {
   "cell_type": "markdown",
   "id": "a2a138ad",
   "metadata": {},
   "source": [
    "# Feature Transformation"
   ]
  },
  {
   "cell_type": "code",
   "execution_count": 117,
   "id": "e1de58e1",
   "metadata": {},
   "outputs": [],
   "source": [
    "from sklearn.preprocessing import LabelEncoder"
   ]
  },
  {
   "cell_type": "code",
   "execution_count": 118,
   "id": "070d0391",
   "metadata": {},
   "outputs": [
    {
     "data": {
      "text/plain": [
       "Customer_ID                     int64\n",
       "Age                             int64\n",
       "Gender                         object\n",
       "Annual_Income                 float64\n",
       "Total_Spend                   float64\n",
       "Years_as_Customer               int64\n",
       "Num_of_Purchases                int32\n",
       "Average_Transaction_Amount    float64\n",
       "Num_of_Returns                  int64\n",
       "Num_of_Support_Contacts         int64\n",
       "Satisfaction_Score              int32\n",
       "Last_Purchase_Days_Ago          int64\n",
       "Email_Opt_In                     bool\n",
       "Promotion_Response             object\n",
       "Target_Churn                     bool\n",
       "dtype: object"
      ]
     },
     "execution_count": 118,
     "metadata": {},
     "output_type": "execute_result"
    }
   ],
   "source": [
    "retail.dtypes"
   ]
  },
  {
   "cell_type": "markdown",
   "id": "4819e777",
   "metadata": {},
   "source": [
    "### Label Encoding:\n",
    "We are using Label Encoding to handle fields that have categorical data:"
   ]
  },
  {
   "cell_type": "code",
   "execution_count": 119,
   "id": "943fdfbf",
   "metadata": {},
   "outputs": [],
   "source": [
    "categorical_cols = [\"Gender\",\"Email_Opt_In\",\"Promotion_Response\",\"Target_Churn\"]\n",
    "encoder = LabelEncoder()\n",
    "for col in categorical_cols:\n",
    "    retail[col] = encoder.fit_transform(retail[col])"
   ]
  },
  {
   "cell_type": "code",
   "execution_count": 120,
   "id": "a610b123",
   "metadata": {},
   "outputs": [
    {
     "data": {
      "text/html": [
       "<div>\n",
       "<style scoped>\n",
       "    .dataframe tbody tr th:only-of-type {\n",
       "        vertical-align: middle;\n",
       "    }\n",
       "\n",
       "    .dataframe tbody tr th {\n",
       "        vertical-align: top;\n",
       "    }\n",
       "\n",
       "    .dataframe thead th {\n",
       "        text-align: right;\n",
       "    }\n",
       "</style>\n",
       "<table border=\"1\" class=\"dataframe\">\n",
       "  <thead>\n",
       "    <tr style=\"text-align: right;\">\n",
       "      <th></th>\n",
       "      <th>Customer_ID</th>\n",
       "      <th>Age</th>\n",
       "      <th>Gender</th>\n",
       "      <th>Annual_Income</th>\n",
       "      <th>Total_Spend</th>\n",
       "      <th>Years_as_Customer</th>\n",
       "      <th>Num_of_Purchases</th>\n",
       "      <th>Average_Transaction_Amount</th>\n",
       "      <th>Num_of_Returns</th>\n",
       "      <th>Num_of_Support_Contacts</th>\n",
       "      <th>Satisfaction_Score</th>\n",
       "      <th>Last_Purchase_Days_Ago</th>\n",
       "      <th>Email_Opt_In</th>\n",
       "      <th>Promotion_Response</th>\n",
       "      <th>Target_Churn</th>\n",
       "    </tr>\n",
       "  </thead>\n",
       "  <tbody>\n",
       "    <tr>\n",
       "      <th>0</th>\n",
       "      <td>1</td>\n",
       "      <td>62</td>\n",
       "      <td>2</td>\n",
       "      <td>45.150000</td>\n",
       "      <td>5892.58</td>\n",
       "      <td>5</td>\n",
       "      <td>22</td>\n",
       "      <td>453.80</td>\n",
       "      <td>2</td>\n",
       "      <td>0</td>\n",
       "      <td>3</td>\n",
       "      <td>129</td>\n",
       "      <td>1</td>\n",
       "      <td>1</td>\n",
       "      <td>0</td>\n",
       "    </tr>\n",
       "    <tr>\n",
       "      <th>1</th>\n",
       "      <td>2</td>\n",
       "      <td>65</td>\n",
       "      <td>1</td>\n",
       "      <td>79.510000</td>\n",
       "      <td>9025.47</td>\n",
       "      <td>13</td>\n",
       "      <td>77</td>\n",
       "      <td>22.90</td>\n",
       "      <td>2</td>\n",
       "      <td>2</td>\n",
       "      <td>3</td>\n",
       "      <td>227</td>\n",
       "      <td>0</td>\n",
       "      <td>1</td>\n",
       "      <td>0</td>\n",
       "    </tr>\n",
       "    <tr>\n",
       "      <th>2</th>\n",
       "      <td>3</td>\n",
       "      <td>18</td>\n",
       "      <td>1</td>\n",
       "      <td>29.190000</td>\n",
       "      <td>618.83</td>\n",
       "      <td>13</td>\n",
       "      <td>71</td>\n",
       "      <td>50.53</td>\n",
       "      <td>5</td>\n",
       "      <td>2</td>\n",
       "      <td>2</td>\n",
       "      <td>283</td>\n",
       "      <td>0</td>\n",
       "      <td>1</td>\n",
       "      <td>1</td>\n",
       "    </tr>\n",
       "    <tr>\n",
       "      <th>3</th>\n",
       "      <td>4</td>\n",
       "      <td>21</td>\n",
       "      <td>2</td>\n",
       "      <td>79.630000</td>\n",
       "      <td>9110.30</td>\n",
       "      <td>3</td>\n",
       "      <td>33</td>\n",
       "      <td>411.83</td>\n",
       "      <td>5</td>\n",
       "      <td>3</td>\n",
       "      <td>5</td>\n",
       "      <td>226</td>\n",
       "      <td>1</td>\n",
       "      <td>0</td>\n",
       "      <td>1</td>\n",
       "    </tr>\n",
       "    <tr>\n",
       "      <th>4</th>\n",
       "      <td>5</td>\n",
       "      <td>21</td>\n",
       "      <td>2</td>\n",
       "      <td>77.660000</td>\n",
       "      <td>5390.88</td>\n",
       "      <td>15</td>\n",
       "      <td>43</td>\n",
       "      <td>101.19</td>\n",
       "      <td>3</td>\n",
       "      <td>0</td>\n",
       "      <td>5</td>\n",
       "      <td>242</td>\n",
       "      <td>0</td>\n",
       "      <td>2</td>\n",
       "      <td>1</td>\n",
       "    </tr>\n",
       "    <tr>\n",
       "      <th>5</th>\n",
       "      <td>6</td>\n",
       "      <td>57</td>\n",
       "      <td>1</td>\n",
       "      <td>190.430000</td>\n",
       "      <td>255.19</td>\n",
       "      <td>19</td>\n",
       "      <td>85</td>\n",
       "      <td>417.78</td>\n",
       "      <td>5</td>\n",
       "      <td>1</td>\n",
       "      <td>4</td>\n",
       "      <td>130</td>\n",
       "      <td>0</td>\n",
       "      <td>2</td>\n",
       "      <td>0</td>\n",
       "    </tr>\n",
       "    <tr>\n",
       "      <th>6</th>\n",
       "      <td>7</td>\n",
       "      <td>27</td>\n",
       "      <td>1</td>\n",
       "      <td>172.130000</td>\n",
       "      <td>3512.55</td>\n",
       "      <td>3</td>\n",
       "      <td>77</td>\n",
       "      <td>316.18</td>\n",
       "      <td>0</td>\n",
       "      <td>3</td>\n",
       "      <td>1</td>\n",
       "      <td>61</td>\n",
       "      <td>1</td>\n",
       "      <td>2</td>\n",
       "      <td>0</td>\n",
       "    </tr>\n",
       "    <tr>\n",
       "      <th>7</th>\n",
       "      <td>8</td>\n",
       "      <td>37</td>\n",
       "      <td>2</td>\n",
       "      <td>88.900000</td>\n",
       "      <td>7270.90</td>\n",
       "      <td>4</td>\n",
       "      <td>87</td>\n",
       "      <td>63.61</td>\n",
       "      <td>3</td>\n",
       "      <td>4</td>\n",
       "      <td>3</td>\n",
       "      <td>224</td>\n",
       "      <td>0</td>\n",
       "      <td>0</td>\n",
       "      <td>0</td>\n",
       "    </tr>\n",
       "    <tr>\n",
       "      <th>8</th>\n",
       "      <td>9</td>\n",
       "      <td>39</td>\n",
       "      <td>2</td>\n",
       "      <td>24.460000</td>\n",
       "      <td>4935.49</td>\n",
       "      <td>1</td>\n",
       "      <td>21</td>\n",
       "      <td>173.80</td>\n",
       "      <td>9</td>\n",
       "      <td>2</td>\n",
       "      <td>4</td>\n",
       "      <td>126</td>\n",
       "      <td>1</td>\n",
       "      <td>1</td>\n",
       "      <td>1</td>\n",
       "    </tr>\n",
       "    <tr>\n",
       "      <th>9</th>\n",
       "      <td>10</td>\n",
       "      <td>68</td>\n",
       "      <td>2</td>\n",
       "      <td>169.590000</td>\n",
       "      <td>9803.57</td>\n",
       "      <td>17</td>\n",
       "      <td>34</td>\n",
       "      <td>481.18</td>\n",
       "      <td>6</td>\n",
       "      <td>1</td>\n",
       "      <td>2</td>\n",
       "      <td>171</td>\n",
       "      <td>1</td>\n",
       "      <td>2</td>\n",
       "      <td>0</td>\n",
       "    </tr>\n",
       "    <tr>\n",
       "      <th>10</th>\n",
       "      <td>11</td>\n",
       "      <td>54</td>\n",
       "      <td>1</td>\n",
       "      <td>138.900000</td>\n",
       "      <td>4283.84</td>\n",
       "      <td>15</td>\n",
       "      <td>33</td>\n",
       "      <td>96.55</td>\n",
       "      <td>9</td>\n",
       "      <td>1</td>\n",
       "      <td>3</td>\n",
       "      <td>92</td>\n",
       "      <td>1</td>\n",
       "      <td>1</td>\n",
       "      <td>0</td>\n",
       "    </tr>\n",
       "    <tr>\n",
       "      <th>11</th>\n",
       "      <td>12</td>\n",
       "      <td>41</td>\n",
       "      <td>0</td>\n",
       "      <td>47.430000</td>\n",
       "      <td>3333.69</td>\n",
       "      <td>4</td>\n",
       "      <td>10</td>\n",
       "      <td>212.58</td>\n",
       "      <td>0</td>\n",
       "      <td>0</td>\n",
       "      <td>2</td>\n",
       "      <td>213</td>\n",
       "      <td>1</td>\n",
       "      <td>1</td>\n",
       "      <td>0</td>\n",
       "    </tr>\n",
       "    <tr>\n",
       "      <th>12</th>\n",
       "      <td>13</td>\n",
       "      <td>24</td>\n",
       "      <td>2</td>\n",
       "      <td>199.290000</td>\n",
       "      <td>8234.55</td>\n",
       "      <td>1</td>\n",
       "      <td>50</td>\n",
       "      <td>160.58</td>\n",
       "      <td>2</td>\n",
       "      <td>1</td>\n",
       "      <td>5</td>\n",
       "      <td>276</td>\n",
       "      <td>0</td>\n",
       "      <td>0</td>\n",
       "      <td>1</td>\n",
       "    </tr>\n",
       "    <tr>\n",
       "      <th>13</th>\n",
       "      <td>14</td>\n",
       "      <td>42</td>\n",
       "      <td>0</td>\n",
       "      <td>38.040000</td>\n",
       "      <td>5524.28</td>\n",
       "      <td>12</td>\n",
       "      <td>4</td>\n",
       "      <td>259.81</td>\n",
       "      <td>5</td>\n",
       "      <td>4</td>\n",
       "      <td>2</td>\n",
       "      <td>212</td>\n",
       "      <td>0</td>\n",
       "      <td>0</td>\n",
       "      <td>1</td>\n",
       "    </tr>\n",
       "    <tr>\n",
       "      <th>14</th>\n",
       "      <td>15</td>\n",
       "      <td>42</td>\n",
       "      <td>0</td>\n",
       "      <td>176.080000</td>\n",
       "      <td>6855.03</td>\n",
       "      <td>17</td>\n",
       "      <td>64</td>\n",
       "      <td>222.85</td>\n",
       "      <td>6</td>\n",
       "      <td>0</td>\n",
       "      <td>1</td>\n",
       "      <td>125</td>\n",
       "      <td>0</td>\n",
       "      <td>0</td>\n",
       "      <td>0</td>\n",
       "    </tr>\n",
       "    <tr>\n",
       "      <th>15</th>\n",
       "      <td>16</td>\n",
       "      <td>30</td>\n",
       "      <td>1</td>\n",
       "      <td>72.970000</td>\n",
       "      <td>8076.45</td>\n",
       "      <td>9</td>\n",
       "      <td>63</td>\n",
       "      <td>466.61</td>\n",
       "      <td>5</td>\n",
       "      <td>0</td>\n",
       "      <td>3</td>\n",
       "      <td>304</td>\n",
       "      <td>0</td>\n",
       "      <td>2</td>\n",
       "      <td>0</td>\n",
       "    </tr>\n",
       "    <tr>\n",
       "      <th>16</th>\n",
       "      <td>17</td>\n",
       "      <td>19</td>\n",
       "      <td>1</td>\n",
       "      <td>112.344122</td>\n",
       "      <td>6747.13</td>\n",
       "      <td>10</td>\n",
       "      <td>9</td>\n",
       "      <td>414.80</td>\n",
       "      <td>7</td>\n",
       "      <td>3</td>\n",
       "      <td>2</td>\n",
       "      <td>274</td>\n",
       "      <td>1</td>\n",
       "      <td>1</td>\n",
       "      <td>1</td>\n",
       "    </tr>\n",
       "    <tr>\n",
       "      <th>17</th>\n",
       "      <td>18</td>\n",
       "      <td>56</td>\n",
       "      <td>0</td>\n",
       "      <td>163.180000</td>\n",
       "      <td>4281.83</td>\n",
       "      <td>3</td>\n",
       "      <td>29</td>\n",
       "      <td>294.39</td>\n",
       "      <td>7</td>\n",
       "      <td>0</td>\n",
       "      <td>3</td>\n",
       "      <td>197</td>\n",
       "      <td>1</td>\n",
       "      <td>2</td>\n",
       "      <td>0</td>\n",
       "    </tr>\n",
       "    <tr>\n",
       "      <th>18</th>\n",
       "      <td>19</td>\n",
       "      <td>57</td>\n",
       "      <td>1</td>\n",
       "      <td>141.950000</td>\n",
       "      <td>1335.48</td>\n",
       "      <td>15</td>\n",
       "      <td>14</td>\n",
       "      <td>173.58</td>\n",
       "      <td>7</td>\n",
       "      <td>3</td>\n",
       "      <td>4</td>\n",
       "      <td>4</td>\n",
       "      <td>0</td>\n",
       "      <td>1</td>\n",
       "      <td>0</td>\n",
       "    </tr>\n",
       "    <tr>\n",
       "      <th>19</th>\n",
       "      <td>20</td>\n",
       "      <td>41</td>\n",
       "      <td>2</td>\n",
       "      <td>188.820000</td>\n",
       "      <td>5844.46</td>\n",
       "      <td>11</td>\n",
       "      <td>88</td>\n",
       "      <td>378.05</td>\n",
       "      <td>8</td>\n",
       "      <td>4</td>\n",
       "      <td>5</td>\n",
       "      <td>57</td>\n",
       "      <td>1</td>\n",
       "      <td>2</td>\n",
       "      <td>0</td>\n",
       "    </tr>\n",
       "  </tbody>\n",
       "</table>\n",
       "</div>"
      ],
      "text/plain": [
       "    Customer_ID  Age  Gender  Annual_Income  Total_Spend  Years_as_Customer  \\\n",
       "0             1   62       2      45.150000      5892.58                  5   \n",
       "1             2   65       1      79.510000      9025.47                 13   \n",
       "2             3   18       1      29.190000       618.83                 13   \n",
       "3             4   21       2      79.630000      9110.30                  3   \n",
       "4             5   21       2      77.660000      5390.88                 15   \n",
       "5             6   57       1     190.430000       255.19                 19   \n",
       "6             7   27       1     172.130000      3512.55                  3   \n",
       "7             8   37       2      88.900000      7270.90                  4   \n",
       "8             9   39       2      24.460000      4935.49                  1   \n",
       "9            10   68       2     169.590000      9803.57                 17   \n",
       "10           11   54       1     138.900000      4283.84                 15   \n",
       "11           12   41       0      47.430000      3333.69                  4   \n",
       "12           13   24       2     199.290000      8234.55                  1   \n",
       "13           14   42       0      38.040000      5524.28                 12   \n",
       "14           15   42       0     176.080000      6855.03                 17   \n",
       "15           16   30       1      72.970000      8076.45                  9   \n",
       "16           17   19       1     112.344122      6747.13                 10   \n",
       "17           18   56       0     163.180000      4281.83                  3   \n",
       "18           19   57       1     141.950000      1335.48                 15   \n",
       "19           20   41       2     188.820000      5844.46                 11   \n",
       "\n",
       "    Num_of_Purchases  Average_Transaction_Amount  Num_of_Returns  \\\n",
       "0                 22                      453.80               2   \n",
       "1                 77                       22.90               2   \n",
       "2                 71                       50.53               5   \n",
       "3                 33                      411.83               5   \n",
       "4                 43                      101.19               3   \n",
       "5                 85                      417.78               5   \n",
       "6                 77                      316.18               0   \n",
       "7                 87                       63.61               3   \n",
       "8                 21                      173.80               9   \n",
       "9                 34                      481.18               6   \n",
       "10                33                       96.55               9   \n",
       "11                10                      212.58               0   \n",
       "12                50                      160.58               2   \n",
       "13                 4                      259.81               5   \n",
       "14                64                      222.85               6   \n",
       "15                63                      466.61               5   \n",
       "16                 9                      414.80               7   \n",
       "17                29                      294.39               7   \n",
       "18                14                      173.58               7   \n",
       "19                88                      378.05               8   \n",
       "\n",
       "    Num_of_Support_Contacts  Satisfaction_Score  Last_Purchase_Days_Ago  \\\n",
       "0                         0                   3                     129   \n",
       "1                         2                   3                     227   \n",
       "2                         2                   2                     283   \n",
       "3                         3                   5                     226   \n",
       "4                         0                   5                     242   \n",
       "5                         1                   4                     130   \n",
       "6                         3                   1                      61   \n",
       "7                         4                   3                     224   \n",
       "8                         2                   4                     126   \n",
       "9                         1                   2                     171   \n",
       "10                        1                   3                      92   \n",
       "11                        0                   2                     213   \n",
       "12                        1                   5                     276   \n",
       "13                        4                   2                     212   \n",
       "14                        0                   1                     125   \n",
       "15                        0                   3                     304   \n",
       "16                        3                   2                     274   \n",
       "17                        0                   3                     197   \n",
       "18                        3                   4                       4   \n",
       "19                        4                   5                      57   \n",
       "\n",
       "    Email_Opt_In  Promotion_Response  Target_Churn  \n",
       "0              1                   1             0  \n",
       "1              0                   1             0  \n",
       "2              0                   1             1  \n",
       "3              1                   0             1  \n",
       "4              0                   2             1  \n",
       "5              0                   2             0  \n",
       "6              1                   2             0  \n",
       "7              0                   0             0  \n",
       "8              1                   1             1  \n",
       "9              1                   2             0  \n",
       "10             1                   1             0  \n",
       "11             1                   1             0  \n",
       "12             0                   0             1  \n",
       "13             0                   0             1  \n",
       "14             0                   0             0  \n",
       "15             0                   2             0  \n",
       "16             1                   1             1  \n",
       "17             1                   2             0  \n",
       "18             0                   1             0  \n",
       "19             1                   2             0  "
      ]
     },
     "execution_count": 120,
     "metadata": {},
     "output_type": "execute_result"
    }
   ],
   "source": [
    "retail.head(20)"
   ]
  },
  {
   "cell_type": "code",
   "execution_count": 121,
   "id": "b9798c8d",
   "metadata": {},
   "outputs": [
    {
     "data": {
      "text/plain": [
       "Customer_ID                     int64\n",
       "Age                             int64\n",
       "Gender                          int32\n",
       "Annual_Income                 float64\n",
       "Total_Spend                   float64\n",
       "Years_as_Customer               int64\n",
       "Num_of_Purchases                int32\n",
       "Average_Transaction_Amount    float64\n",
       "Num_of_Returns                  int64\n",
       "Num_of_Support_Contacts         int64\n",
       "Satisfaction_Score              int32\n",
       "Last_Purchase_Days_Ago          int64\n",
       "Email_Opt_In                    int64\n",
       "Promotion_Response              int32\n",
       "Target_Churn                    int64\n",
       "dtype: object"
      ]
     },
     "execution_count": 121,
     "metadata": {},
     "output_type": "execute_result"
    }
   ],
   "source": [
    "retail.dtypes"
   ]
  },
  {
   "cell_type": "markdown",
   "id": "3d379c7f",
   "metadata": {},
   "source": [
    "# Balancing imbalanced data:"
   ]
  },
  {
   "cell_type": "markdown",
   "id": "7b690e31",
   "metadata": {},
   "source": [
    "   We have seen above that our data is mildly imbalanced. To handle this, we use the SMOTE technique.\n",
    "   \n",
    "   \n",
    "   It is basically a data augmentation method that generates synthetic samples for minority classes in imbalanced datasets by interpolating between existing minority instances, helping improve classifier performance on underrepresented classes."
   ]
  },
  {
   "cell_type": "code",
   "execution_count": 122,
   "id": "b548d2a9",
   "metadata": {},
   "outputs": [],
   "source": [
    "from imblearn.over_sampling import SMOTE"
   ]
  },
  {
   "cell_type": "code",
   "execution_count": 123,
   "id": "2c0f3f5f",
   "metadata": {},
   "outputs": [],
   "source": [
    "x=retail.drop([\"Target_Churn\",\"Customer_ID\"],axis=1)\n",
    "y=retail[\"Target_Churn\"]"
   ]
  },
  {
   "cell_type": "code",
   "execution_count": 124,
   "id": "b16cb460",
   "metadata": {},
   "outputs": [
    {
     "name": "stderr",
     "output_type": "stream",
     "text": [
      "C:\\Users\\absarma\\Anaconda3\\lib\\site-packages\\sklearn\\base.py:474: FutureWarning: `BaseEstimator._validate_data` is deprecated in 1.6 and will be removed in 1.7. Use `sklearn.utils.validation.validate_data` instead. This function becomes public and is part of the scikit-learn developer API.\n",
      "  warnings.warn(\n"
     ]
    }
   ],
   "source": [
    "smote = SMOTE(random_state=123)\n",
    "X_balanced, Y_balanced = smote.fit_resample(x,y)"
   ]
  },
  {
   "cell_type": "markdown",
   "id": "6e6eb843",
   "metadata": {},
   "source": [
    "Train Test Split"
   ]
  },
  {
   "cell_type": "code",
   "execution_count": 125,
   "id": "292f06d7",
   "metadata": {},
   "outputs": [],
   "source": [
    "from sklearn.model_selection import train_test_split "
   ]
  },
  {
   "cell_type": "code",
   "execution_count": 126,
   "id": "8356f9eb",
   "metadata": {},
   "outputs": [],
   "source": [
    "X_train,X_test,y_train,y_test = train_test_split(X_balanced,Y_balanced,test_size=0.25,random_state = 42,stratify=Y_balanced)"
   ]
  },
  {
   "cell_type": "code",
   "execution_count": 127,
   "id": "4380416c",
   "metadata": {},
   "outputs": [
    {
     "name": "stdout",
     "output_type": "stream",
     "text": [
      "   Target_Churn\n",
      "1           530\n",
      "0           530\n",
      "   Target_Churn\n",
      "1           177\n",
      "0           177\n"
     ]
    }
   ],
   "source": [
    "print(y_train.value_counts().to_frame())\n",
    "print(y_test.value_counts().to_frame())"
   ]
  },
  {
   "cell_type": "markdown",
   "id": "77e0e9ae",
   "metadata": {},
   "source": [
    "# Feature Scaling"
   ]
  },
  {
   "cell_type": "markdown",
   "id": "d77e9fc5",
   "metadata": {},
   "source": [
    "Feature scaling is essential for this dataset because some variables, such as Age and Annual Income, have different value ranges. \n",
    "\n",
    "Without scaling, features with larger ranges like Annual Income can disproportionately influence the model’s performance, overshadowing features with smaller ranges. \n",
    "\n",
    "\n",
    "To ensure that all features contribute equally and to enhance the effectiveness of our machine learning models, we apply feature scaling. \n",
    "\n",
    "In this case, we use the MinMaxScaler to normalize the data, bringing all features into a consistent scale."
   ]
  },
  {
   "cell_type": "code",
   "execution_count": 128,
   "id": "8ec357c0",
   "metadata": {},
   "outputs": [],
   "source": [
    "from sklearn.preprocessing import MinMaxScaler "
   ]
  },
  {
   "cell_type": "code",
   "execution_count": 129,
   "id": "1db74d66",
   "metadata": {},
   "outputs": [],
   "source": [
    "scaler = MinMaxScaler()\n",
    "X_train[X_train.columns] = scaler.fit_transform(X_train[X_train.columns])\n",
    "X_test[X_test.columns] = scaler.transform(X_test[X_test.columns])"
   ]
  },
  {
   "cell_type": "code",
   "execution_count": 130,
   "id": "006f9385",
   "metadata": {},
   "outputs": [
    {
     "data": {
      "text/html": [
       "<div>\n",
       "<style scoped>\n",
       "    .dataframe tbody tr th:only-of-type {\n",
       "        vertical-align: middle;\n",
       "    }\n",
       "\n",
       "    .dataframe tbody tr th {\n",
       "        vertical-align: top;\n",
       "    }\n",
       "\n",
       "    .dataframe thead th {\n",
       "        text-align: right;\n",
       "    }\n",
       "</style>\n",
       "<table border=\"1\" class=\"dataframe\">\n",
       "  <thead>\n",
       "    <tr style=\"text-align: right;\">\n",
       "      <th></th>\n",
       "      <th>Age</th>\n",
       "      <th>Gender</th>\n",
       "      <th>Annual_Income</th>\n",
       "      <th>Total_Spend</th>\n",
       "      <th>Years_as_Customer</th>\n",
       "      <th>Num_of_Purchases</th>\n",
       "      <th>Average_Transaction_Amount</th>\n",
       "      <th>Num_of_Returns</th>\n",
       "      <th>Num_of_Support_Contacts</th>\n",
       "      <th>Satisfaction_Score</th>\n",
       "      <th>Last_Purchase_Days_Ago</th>\n",
       "      <th>Email_Opt_In</th>\n",
       "      <th>Promotion_Response</th>\n",
       "    </tr>\n",
       "  </thead>\n",
       "  <tbody>\n",
       "    <tr>\n",
       "      <th>1065</th>\n",
       "      <td>0.745098</td>\n",
       "      <td>0.5</td>\n",
       "      <td>0.410245</td>\n",
       "      <td>0.276257</td>\n",
       "      <td>0.722222</td>\n",
       "      <td>0.714286</td>\n",
       "      <td>0.377796</td>\n",
       "      <td>0.666667</td>\n",
       "      <td>0.50</td>\n",
       "      <td>0.25</td>\n",
       "      <td>0.355372</td>\n",
       "      <td>0.0</td>\n",
       "      <td>0.5</td>\n",
       "    </tr>\n",
       "    <tr>\n",
       "      <th>565</th>\n",
       "      <td>0.745098</td>\n",
       "      <td>0.0</td>\n",
       "      <td>0.321890</td>\n",
       "      <td>0.969631</td>\n",
       "      <td>0.111111</td>\n",
       "      <td>0.591837</td>\n",
       "      <td>0.087915</td>\n",
       "      <td>0.777778</td>\n",
       "      <td>0.25</td>\n",
       "      <td>0.50</td>\n",
       "      <td>0.509642</td>\n",
       "      <td>0.0</td>\n",
       "      <td>0.0</td>\n",
       "    </tr>\n",
       "    <tr>\n",
       "      <th>247</th>\n",
       "      <td>0.039216</td>\n",
       "      <td>0.0</td>\n",
       "      <td>0.073893</td>\n",
       "      <td>0.580638</td>\n",
       "      <td>0.500000</td>\n",
       "      <td>0.663265</td>\n",
       "      <td>0.902312</td>\n",
       "      <td>0.333333</td>\n",
       "      <td>0.00</td>\n",
       "      <td>0.75</td>\n",
       "      <td>0.818182</td>\n",
       "      <td>1.0</td>\n",
       "      <td>0.0</td>\n",
       "    </tr>\n",
       "    <tr>\n",
       "      <th>1266</th>\n",
       "      <td>0.019608</td>\n",
       "      <td>0.5</td>\n",
       "      <td>0.674933</td>\n",
       "      <td>0.557467</td>\n",
       "      <td>0.055556</td>\n",
       "      <td>0.765306</td>\n",
       "      <td>0.157277</td>\n",
       "      <td>1.000000</td>\n",
       "      <td>0.25</td>\n",
       "      <td>0.25</td>\n",
       "      <td>0.600551</td>\n",
       "      <td>1.0</td>\n",
       "      <td>0.0</td>\n",
       "    </tr>\n",
       "    <tr>\n",
       "      <th>1005</th>\n",
       "      <td>0.431373</td>\n",
       "      <td>0.0</td>\n",
       "      <td>0.403419</td>\n",
       "      <td>0.482558</td>\n",
       "      <td>0.277778</td>\n",
       "      <td>0.469388</td>\n",
       "      <td>0.531503</td>\n",
       "      <td>0.444444</td>\n",
       "      <td>0.25</td>\n",
       "      <td>0.50</td>\n",
       "      <td>0.840220</td>\n",
       "      <td>1.0</td>\n",
       "      <td>0.0</td>\n",
       "    </tr>\n",
       "    <tr>\n",
       "      <th>...</th>\n",
       "      <td>...</td>\n",
       "      <td>...</td>\n",
       "      <td>...</td>\n",
       "      <td>...</td>\n",
       "      <td>...</td>\n",
       "      <td>...</td>\n",
       "      <td>...</td>\n",
       "      <td>...</td>\n",
       "      <td>...</td>\n",
       "      <td>...</td>\n",
       "      <td>...</td>\n",
       "      <td>...</td>\n",
       "      <td>...</td>\n",
       "    </tr>\n",
       "    <tr>\n",
       "      <th>718</th>\n",
       "      <td>0.196078</td>\n",
       "      <td>1.0</td>\n",
       "      <td>0.605943</td>\n",
       "      <td>0.816277</td>\n",
       "      <td>0.944444</td>\n",
       "      <td>0.714286</td>\n",
       "      <td>0.159003</td>\n",
       "      <td>0.666667</td>\n",
       "      <td>1.00</td>\n",
       "      <td>1.00</td>\n",
       "      <td>0.669421</td>\n",
       "      <td>0.0</td>\n",
       "      <td>1.0</td>\n",
       "    </tr>\n",
       "    <tr>\n",
       "      <th>1079</th>\n",
       "      <td>0.823529</td>\n",
       "      <td>0.0</td>\n",
       "      <td>0.583560</td>\n",
       "      <td>0.571469</td>\n",
       "      <td>0.333333</td>\n",
       "      <td>0.500000</td>\n",
       "      <td>0.621119</td>\n",
       "      <td>0.333333</td>\n",
       "      <td>0.25</td>\n",
       "      <td>0.25</td>\n",
       "      <td>0.055096</td>\n",
       "      <td>0.0</td>\n",
       "      <td>0.0</td>\n",
       "    </tr>\n",
       "    <tr>\n",
       "      <th>356</th>\n",
       "      <td>0.058824</td>\n",
       "      <td>0.0</td>\n",
       "      <td>0.520755</td>\n",
       "      <td>0.795096</td>\n",
       "      <td>0.500000</td>\n",
       "      <td>0.010204</td>\n",
       "      <td>0.419149</td>\n",
       "      <td>1.000000</td>\n",
       "      <td>0.50</td>\n",
       "      <td>0.00</td>\n",
       "      <td>0.363636</td>\n",
       "      <td>1.0</td>\n",
       "      <td>1.0</td>\n",
       "    </tr>\n",
       "    <tr>\n",
       "      <th>1372</th>\n",
       "      <td>0.372549</td>\n",
       "      <td>0.5</td>\n",
       "      <td>0.180123</td>\n",
       "      <td>0.536346</td>\n",
       "      <td>0.222222</td>\n",
       "      <td>0.040816</td>\n",
       "      <td>0.611028</td>\n",
       "      <td>0.222222</td>\n",
       "      <td>0.75</td>\n",
       "      <td>0.25</td>\n",
       "      <td>0.553719</td>\n",
       "      <td>0.0</td>\n",
       "      <td>0.5</td>\n",
       "    </tr>\n",
       "    <tr>\n",
       "      <th>586</th>\n",
       "      <td>0.333333</td>\n",
       "      <td>0.0</td>\n",
       "      <td>0.349599</td>\n",
       "      <td>0.243263</td>\n",
       "      <td>0.833333</td>\n",
       "      <td>0.122449</td>\n",
       "      <td>0.032242</td>\n",
       "      <td>0.888889</td>\n",
       "      <td>0.25</td>\n",
       "      <td>0.50</td>\n",
       "      <td>0.699725</td>\n",
       "      <td>0.0</td>\n",
       "      <td>0.5</td>\n",
       "    </tr>\n",
       "  </tbody>\n",
       "</table>\n",
       "<p>1060 rows × 13 columns</p>\n",
       "</div>"
      ],
      "text/plain": [
       "           Age  Gender  Annual_Income  Total_Spend  Years_as_Customer  \\\n",
       "1065  0.745098     0.5       0.410245     0.276257           0.722222   \n",
       "565   0.745098     0.0       0.321890     0.969631           0.111111   \n",
       "247   0.039216     0.0       0.073893     0.580638           0.500000   \n",
       "1266  0.019608     0.5       0.674933     0.557467           0.055556   \n",
       "1005  0.431373     0.0       0.403419     0.482558           0.277778   \n",
       "...        ...     ...            ...          ...                ...   \n",
       "718   0.196078     1.0       0.605943     0.816277           0.944444   \n",
       "1079  0.823529     0.0       0.583560     0.571469           0.333333   \n",
       "356   0.058824     0.0       0.520755     0.795096           0.500000   \n",
       "1372  0.372549     0.5       0.180123     0.536346           0.222222   \n",
       "586   0.333333     0.0       0.349599     0.243263           0.833333   \n",
       "\n",
       "      Num_of_Purchases  Average_Transaction_Amount  Num_of_Returns  \\\n",
       "1065          0.714286                    0.377796        0.666667   \n",
       "565           0.591837                    0.087915        0.777778   \n",
       "247           0.663265                    0.902312        0.333333   \n",
       "1266          0.765306                    0.157277        1.000000   \n",
       "1005          0.469388                    0.531503        0.444444   \n",
       "...                ...                         ...             ...   \n",
       "718           0.714286                    0.159003        0.666667   \n",
       "1079          0.500000                    0.621119        0.333333   \n",
       "356           0.010204                    0.419149        1.000000   \n",
       "1372          0.040816                    0.611028        0.222222   \n",
       "586           0.122449                    0.032242        0.888889   \n",
       "\n",
       "      Num_of_Support_Contacts  Satisfaction_Score  Last_Purchase_Days_Ago  \\\n",
       "1065                     0.50                0.25                0.355372   \n",
       "565                      0.25                0.50                0.509642   \n",
       "247                      0.00                0.75                0.818182   \n",
       "1266                     0.25                0.25                0.600551   \n",
       "1005                     0.25                0.50                0.840220   \n",
       "...                       ...                 ...                     ...   \n",
       "718                      1.00                1.00                0.669421   \n",
       "1079                     0.25                0.25                0.055096   \n",
       "356                      0.50                0.00                0.363636   \n",
       "1372                     0.75                0.25                0.553719   \n",
       "586                      0.25                0.50                0.699725   \n",
       "\n",
       "      Email_Opt_In  Promotion_Response  \n",
       "1065           0.0                 0.5  \n",
       "565            0.0                 0.0  \n",
       "247            1.0                 0.0  \n",
       "1266           1.0                 0.0  \n",
       "1005           1.0                 0.0  \n",
       "...            ...                 ...  \n",
       "718            0.0                 1.0  \n",
       "1079           0.0                 0.0  \n",
       "356            1.0                 1.0  \n",
       "1372           0.0                 0.5  \n",
       "586            0.0                 0.5  \n",
       "\n",
       "[1060 rows x 13 columns]"
      ]
     },
     "execution_count": 130,
     "metadata": {},
     "output_type": "execute_result"
    }
   ],
   "source": [
    "X_train"
   ]
  },
  {
   "cell_type": "markdown",
   "id": "9ab3195e",
   "metadata": {},
   "source": [
    "# Classification"
   ]
  },
  {
   "cell_type": "markdown",
   "id": "aac97745",
   "metadata": {},
   "source": [
    "\n",
    "We will first train multiple classification algorithms using the training data. Next, we will assess their performance on the test set using evaluation metrics like precision, recall, and F1-score. Finally,  the model that achieves the best results according to these metrics will be selected.\n",
    "\n",
    "We use the following algorithms:"
   ]
  },
  {
   "cell_type": "markdown",
   "id": "805d57d1",
   "metadata": {},
   "source": [
    "#### K Nearest Neighbor (KNN)\n",
    "#### Decision Tree\n",
    "#### Support Vector Machine\n",
    "#### Logistic Regression"
   ]
  },
  {
   "cell_type": "markdown",
   "id": "9497681b",
   "metadata": {},
   "source": [
    "# Model Building"
   ]
  },
  {
   "cell_type": "markdown",
   "id": "6d71fe1f",
   "metadata": {},
   "source": [
    "# K-Nearest Neighbours"
   ]
  },
  {
   "cell_type": "code",
   "execution_count": 131,
   "id": "d915a6de",
   "metadata": {},
   "outputs": [],
   "source": [
    "from sklearn.model_selection import cross_val_score\n",
    "from sklearn.neighbors import KNeighborsClassifier \n",
    "from sklearn.metrics import accuracy_score,confusion_matrix,classification_report "
   ]
  },
  {
   "cell_type": "code",
   "execution_count": 176,
   "id": "bc6401e4",
   "metadata": {},
   "outputs": [],
   "source": [
    "knn_score = {}\n",
    "for i in range(1,16):\n",
    "    knn =  KNeighborsClassifier(n_neighbors = i)\n",
    "    knn.fit(X_train,y_train)\n",
    "    y_test_pred = knn.predict(X_test)\n",
    "    x = accuracy_score(y_test,y_test_pred)\n",
    "    knn_score[i] = x"
   ]
  },
  {
   "cell_type": "code",
   "execution_count": 177,
   "id": "039aec2e",
   "metadata": {},
   "outputs": [
    {
     "data": {
      "image/png": "[encoded data removed]",
      "text/plain": [
       "<Figure size 432x288 with 1 Axes>"
      ]
     },
     "metadata": {
      "needs_background": "light"
     },
     "output_type": "display_data"
    }
   ],
   "source": [
    "plt.scatter(list(knn_score.keys()),list(knn_score.values()))\n",
    "plt.plot(list(knn_score.keys()),list(knn_score.values()),color=\"blue\")\n",
    "plt.xlabel(\"K Values\")\n",
    "plt.ylabel(\"Accuracy\")\n",
    "plt.grid()\n",
    "plt.show()"
   ]
  },
  {
   "cell_type": "code",
   "execution_count": 178,
   "id": "00b9159c",
   "metadata": {},
   "outputs": [],
   "source": [
    "optimal_k = dict(sorted(knn_score.items(),key=lambda x:x[1],reverse=True))"
   ]
  },
  {
   "cell_type": "code",
   "execution_count": 179,
   "id": "ba4de7db",
   "metadata": {},
   "outputs": [],
   "source": [
    "knn =  KNeighborsClassifier(n_neighbors = list(optimal_k.keys())[0])\n",
    "knn.fit(X_train,y_train)\n",
    "y_test_pred = knn.predict(X_test)"
   ]
  },
  {
   "cell_type": "markdown",
   "id": "110ee7b3",
   "metadata": {},
   "source": [
    "This is the following confusion matrix and classification report:"
   ]
  },
  {
   "cell_type": "code",
   "execution_count": 180,
   "id": "cee6aa55",
   "metadata": {},
   "outputs": [
    {
     "data": {
      "image/png": "[encoded data removed]",
      "text/plain": [
       "<Figure size 432x288 with 2 Axes>"
      ]
     },
     "metadata": {
      "needs_background": "light"
     },
     "output_type": "display_data"
    }
   ],
   "source": [
    "cf_knn = confusion_matrix(y_test,y_test_pred)\n",
    "sns.heatmap(cf_knn,annot=True,cmap=\"flare\",linecolor=\"orange\",fmt=\"d\")\n",
    "plt.xlabel(\"Predicted\")\n",
    "plt.ylabel(\"Actual\")\n",
    "plt.show()"
   ]
  },
  {
   "cell_type": "code",
   "execution_count": 142,
   "id": "a760730c",
   "metadata": {},
   "outputs": [
    {
     "data": {
      "text/html": [
       "<div>\n",
       "<style scoped>\n",
       "    .dataframe tbody tr th:only-of-type {\n",
       "        vertical-align: middle;\n",
       "    }\n",
       "\n",
       "    .dataframe tbody tr th {\n",
       "        vertical-align: top;\n",
       "    }\n",
       "\n",
       "    .dataframe thead th {\n",
       "        text-align: right;\n",
       "    }\n",
       "</style>\n",
       "<table border=\"1\" class=\"dataframe\">\n",
       "  <thead>\n",
       "    <tr style=\"text-align: right;\">\n",
       "      <th></th>\n",
       "      <th>0</th>\n",
       "      <th>1</th>\n",
       "      <th>accuracy</th>\n",
       "      <th>macro avg</th>\n",
       "      <th>weighted avg</th>\n",
       "    </tr>\n",
       "  </thead>\n",
       "  <tbody>\n",
       "    <tr>\n",
       "      <th>precision</th>\n",
       "      <td>0.760563</td>\n",
       "      <td>0.674528</td>\n",
       "      <td>0.70904</td>\n",
       "      <td>0.717546</td>\n",
       "      <td>0.717546</td>\n",
       "    </tr>\n",
       "    <tr>\n",
       "      <th>recall</th>\n",
       "      <td>0.610169</td>\n",
       "      <td>0.807910</td>\n",
       "      <td>0.70904</td>\n",
       "      <td>0.709040</td>\n",
       "      <td>0.709040</td>\n",
       "    </tr>\n",
       "    <tr>\n",
       "      <th>f1-score</th>\n",
       "      <td>0.677116</td>\n",
       "      <td>0.735219</td>\n",
       "      <td>0.70904</td>\n",
       "      <td>0.706167</td>\n",
       "      <td>0.706167</td>\n",
       "    </tr>\n",
       "    <tr>\n",
       "      <th>support</th>\n",
       "      <td>177.000000</td>\n",
       "      <td>177.000000</td>\n",
       "      <td>0.70904</td>\n",
       "      <td>354.000000</td>\n",
       "      <td>354.000000</td>\n",
       "    </tr>\n",
       "  </tbody>\n",
       "</table>\n",
       "</div>"
      ],
      "text/plain": [
       "                    0           1  accuracy   macro avg  weighted avg\n",
       "precision    0.760563    0.674528   0.70904    0.717546      0.717546\n",
       "recall       0.610169    0.807910   0.70904    0.709040      0.709040\n",
       "f1-score     0.677116    0.735219   0.70904    0.706167      0.706167\n",
       "support    177.000000  177.000000   0.70904  354.000000    354.000000"
      ]
     },
     "execution_count": 142,
     "metadata": {},
     "output_type": "execute_result"
    }
   ],
   "source": [
    "report_dict_knn = classification_report(y_test,y_test_pred,output_dict=True)\n",
    "report_df_knn = pd.DataFrame(report_dict_knn)\n",
    "report_df_knn"
   ]
  },
  {
   "cell_type": "markdown",
   "id": "c1f4d557",
   "metadata": {},
   "source": [
    "# Decision Tree"
   ]
  },
  {
   "cell_type": "markdown",
   "id": "429245e3",
   "metadata": {},
   "source": [
    "Hyperparameters such as max_depth, min_samples_split, min_samples_leaf, and criterion play a crucial role in the performance of decision tree-based classification models.\n",
    "\n",
    "To achieve optimal model performance, it is important to identify the best combination of these hyperparameters.\n",
    "\n",
    "Here, use GridSearchCV to systematically find the optimal hyperparameter combination, ensuring our decision tree model achieves the best performance."
   ]
  },
  {
   "cell_type": "code",
   "execution_count": 145,
   "id": "b3a4f314",
   "metadata": {},
   "outputs": [],
   "source": [
    "from sklearn.tree import DecisionTreeClassifier\n",
    "from sklearn.model_selection import GridSearchCV\n",
    "\n",
    "\n",
    "param_grid = {\n",
    "    'max_depth': [3, 5, 7, 10, None],\n",
    "    'min_samples_split': [2, 5, 10],\n",
    "    'min_samples_leaf': [1, 2, 4],\n",
    "    'criterion': ['gini', 'entropy']\n",
    "}\n",
    "\n",
    "\n",
    "grid_search = GridSearchCV(\n",
    "    estimator=DecisionTreeClassifier(random_state=42),\n",
    "    param_grid=param_grid,\n",
    "    cv=5,  # 5-fold cross-validation\n",
    "    scoring='accuracy',\n",
    "    n_jobs=1\n",
    ")\n",
    "\n",
    "\n",
    "grid_search.fit(X_train, y_train)\n",
    "\n",
    "\n",
    "best_model_DT = grid_search.best_estimator_\n",
    "\n",
    "\n",
    "y_test_pred_DT = best_model_DT.predict(X_test)"
   ]
  },
  {
   "cell_type": "code",
   "execution_count": 146,
   "id": "7fff571c",
   "metadata": {},
   "outputs": [
    {
     "data": {
      "image/png": "[encoded data removed]",
      "text/plain": [
       "<Figure size 432x288 with 2 Axes>"
      ]
     },
     "metadata": {
      "needs_background": "light"
     },
     "output_type": "display_data"
    }
   ],
   "source": [
    "cf_DT= confusion_matrix(y_test,y_test_pred_DT)\n",
    "sns.heatmap(cf_DT,annot=True,cmap=\"flare\",linecolor=\"orange\",fmt=\"d\")\n",
    "plt.xlabel(\"Predicted\")\n",
    "plt.ylabel(\"Actual\")\n",
    "plt.show()"
   ]
  },
  {
   "cell_type": "code",
   "execution_count": 147,
   "id": "8d02eeb2",
   "metadata": {},
   "outputs": [
    {
     "data": {
      "text/html": [
       "<div>\n",
       "<style scoped>\n",
       "    .dataframe tbody tr th:only-of-type {\n",
       "        vertical-align: middle;\n",
       "    }\n",
       "\n",
       "    .dataframe tbody tr th {\n",
       "        vertical-align: top;\n",
       "    }\n",
       "\n",
       "    .dataframe thead th {\n",
       "        text-align: right;\n",
       "    }\n",
       "</style>\n",
       "<table border=\"1\" class=\"dataframe\">\n",
       "  <thead>\n",
       "    <tr style=\"text-align: right;\">\n",
       "      <th></th>\n",
       "      <th>0</th>\n",
       "      <th>1</th>\n",
       "      <th>accuracy</th>\n",
       "      <th>macro avg</th>\n",
       "      <th>weighted avg</th>\n",
       "    </tr>\n",
       "  </thead>\n",
       "  <tbody>\n",
       "    <tr>\n",
       "      <th>precision</th>\n",
       "      <td>0.761006</td>\n",
       "      <td>0.712821</td>\n",
       "      <td>0.734463</td>\n",
       "      <td>0.736913</td>\n",
       "      <td>0.736913</td>\n",
       "    </tr>\n",
       "    <tr>\n",
       "      <th>recall</th>\n",
       "      <td>0.683616</td>\n",
       "      <td>0.785311</td>\n",
       "      <td>0.734463</td>\n",
       "      <td>0.734463</td>\n",
       "      <td>0.734463</td>\n",
       "    </tr>\n",
       "    <tr>\n",
       "      <th>f1-score</th>\n",
       "      <td>0.720238</td>\n",
       "      <td>0.747312</td>\n",
       "      <td>0.734463</td>\n",
       "      <td>0.733775</td>\n",
       "      <td>0.733775</td>\n",
       "    </tr>\n",
       "    <tr>\n",
       "      <th>support</th>\n",
       "      <td>177.000000</td>\n",
       "      <td>177.000000</td>\n",
       "      <td>0.734463</td>\n",
       "      <td>354.000000</td>\n",
       "      <td>354.000000</td>\n",
       "    </tr>\n",
       "  </tbody>\n",
       "</table>\n",
       "</div>"
      ],
      "text/plain": [
       "                    0           1  accuracy   macro avg  weighted avg\n",
       "precision    0.761006    0.712821  0.734463    0.736913      0.736913\n",
       "recall       0.683616    0.785311  0.734463    0.734463      0.734463\n",
       "f1-score     0.720238    0.747312  0.734463    0.733775      0.733775\n",
       "support    177.000000  177.000000  0.734463  354.000000    354.000000"
      ]
     },
     "execution_count": 147,
     "metadata": {},
     "output_type": "execute_result"
    }
   ],
   "source": [
    "report_dict_DT = classification_report(y_test,y_test_pred_DT,output_dict=True)\n",
    "report_df_DT = pd.DataFrame(report_dict_DT)\n",
    "report_df_DT"
   ]
  },
  {
   "cell_type": "markdown",
   "id": "a0bdeb21",
   "metadata": {},
   "source": [
    "# Logistic Regression"
   ]
  },
  {
   "cell_type": "markdown",
   "id": "de1b5613",
   "metadata": {},
   "source": [
    "Since the minimum of the loss function in logistic regression cannot be calculated in a closed form, we rely on optimization algorithms to estimate the model coefficients. \n",
    "\n",
    "In this case, we evaluate several solvers : \"lbfgs\", \"newton-cg\", \"liblinear\", \"sag\", and \"saga\" to identify which one delivers the best performance."
   ]
  },
  {
   "cell_type": "code",
   "execution_count": 148,
   "id": "0c0552f7",
   "metadata": {},
   "outputs": [],
   "source": [
    "from sklearn.linear_model import LogisticRegression "
   ]
  },
  {
   "cell_type": "code",
   "execution_count": 149,
   "id": "c2f8cbc4",
   "metadata": {},
   "outputs": [],
   "source": [
    "LR_score = {}\n",
    "solvers = [\"lbfgs\",\"newton-cg\",\"liblinear\",\"sag\",\"saga\"]\n",
    "for solver in solvers:\n",
    "    lg =  LogisticRegression(solver = solver )\n",
    "    lg.fit(X_train,y_train)\n",
    "    y_test_pred_LR = lg.predict(X_test)\n",
    "    x = accuracy_score(y_test,y_test_pred_LR)\n",
    "    LR_score[solver] = x"
   ]
  },
  {
   "cell_type": "code",
   "execution_count": 150,
   "id": "1a1e535d",
   "metadata": {},
   "outputs": [
    {
     "data": {
      "text/plain": [
       "{'lbfgs': 0.6949152542372882,\n",
       " 'newton-cg': 0.6949152542372882,\n",
       " 'liblinear': 0.692090395480226,\n",
       " 'sag': 0.6949152542372882,\n",
       " 'saga': 0.6949152542372882}"
      ]
     },
     "execution_count": 150,
     "metadata": {},
     "output_type": "execute_result"
    }
   ],
   "source": [
    "LR_score"
   ]
  },
  {
   "cell_type": "code",
   "execution_count": 151,
   "id": "941f49a1",
   "metadata": {},
   "outputs": [],
   "source": [
    "best_solver = dict(sorted(LR_score.items(),key=lambda x:x[1],reverse=True))"
   ]
  },
  {
   "cell_type": "code",
   "execution_count": 152,
   "id": "7c5d16ef",
   "metadata": {},
   "outputs": [],
   "source": [
    "lg =  LogisticRegression(solver = list(best_solver.keys())[0])\n",
    "lg.fit(X_train,y_train)\n",
    "y_test_pred_LR = lg.predict(X_test)"
   ]
  },
  {
   "cell_type": "code",
   "execution_count": 153,
   "id": "f66b42fd",
   "metadata": {},
   "outputs": [
    {
     "data": {
      "image/png": "[encoded data removed]",
      "text/plain": [
       "<Figure size 432x288 with 2 Axes>"
      ]
     },
     "metadata": {
      "needs_background": "light"
     },
     "output_type": "display_data"
    }
   ],
   "source": [
    "cf_lg = confusion_matrix(y_test,y_test_pred_LR)\n",
    "sns.heatmap(cf_lg,annot=True,cmap=\"flare\",linecolor=\"orange\",fmt=\"d\")\n",
    "plt.xlabel(\"Predicted\")\n",
    "plt.ylabel(\"Actual\")\n",
    "plt.show()"
   ]
  },
  {
   "cell_type": "code",
   "execution_count": 154,
   "id": "2a13d330",
   "metadata": {},
   "outputs": [
    {
     "data": {
      "text/html": [
       "<div>\n",
       "<style scoped>\n",
       "    .dataframe tbody tr th:only-of-type {\n",
       "        vertical-align: middle;\n",
       "    }\n",
       "\n",
       "    .dataframe tbody tr th {\n",
       "        vertical-align: top;\n",
       "    }\n",
       "\n",
       "    .dataframe thead th {\n",
       "        text-align: right;\n",
       "    }\n",
       "</style>\n",
       "<table border=\"1\" class=\"dataframe\">\n",
       "  <thead>\n",
       "    <tr style=\"text-align: right;\">\n",
       "      <th></th>\n",
       "      <th>0</th>\n",
       "      <th>1</th>\n",
       "      <th>accuracy</th>\n",
       "      <th>macro avg</th>\n",
       "      <th>weighted avg</th>\n",
       "    </tr>\n",
       "  </thead>\n",
       "  <tbody>\n",
       "    <tr>\n",
       "      <th>precision</th>\n",
       "      <td>0.714286</td>\n",
       "      <td>0.678756</td>\n",
       "      <td>0.694915</td>\n",
       "      <td>0.696521</td>\n",
       "      <td>0.696521</td>\n",
       "    </tr>\n",
       "    <tr>\n",
       "      <th>recall</th>\n",
       "      <td>0.649718</td>\n",
       "      <td>0.740113</td>\n",
       "      <td>0.694915</td>\n",
       "      <td>0.694915</td>\n",
       "      <td>0.694915</td>\n",
       "    </tr>\n",
       "    <tr>\n",
       "      <th>f1-score</th>\n",
       "      <td>0.680473</td>\n",
       "      <td>0.708108</td>\n",
       "      <td>0.694915</td>\n",
       "      <td>0.694291</td>\n",
       "      <td>0.694291</td>\n",
       "    </tr>\n",
       "    <tr>\n",
       "      <th>support</th>\n",
       "      <td>177.000000</td>\n",
       "      <td>177.000000</td>\n",
       "      <td>0.694915</td>\n",
       "      <td>354.000000</td>\n",
       "      <td>354.000000</td>\n",
       "    </tr>\n",
       "  </tbody>\n",
       "</table>\n",
       "</div>"
      ],
      "text/plain": [
       "                    0           1  accuracy   macro avg  weighted avg\n",
       "precision    0.714286    0.678756  0.694915    0.696521      0.696521\n",
       "recall       0.649718    0.740113  0.694915    0.694915      0.694915\n",
       "f1-score     0.680473    0.708108  0.694915    0.694291      0.694291\n",
       "support    177.000000  177.000000  0.694915  354.000000    354.000000"
      ]
     },
     "execution_count": 154,
     "metadata": {},
     "output_type": "execute_result"
    }
   ],
   "source": [
    "report_dict_lg = classification_report(y_test,y_test_pred_LR,output_dict=True)\n",
    "report_df_lg = pd.DataFrame(report_dict_lg)\n",
    "report_df_lg"
   ]
  },
  {
   "cell_type": "markdown",
   "id": "6658bc8c",
   "metadata": {},
   "source": [
    "# Random Forest:"
   ]
  },
  {
   "cell_type": "code",
   "execution_count": 181,
   "id": "3b6ddce0",
   "metadata": {},
   "outputs": [],
   "source": [
    "from sklearn.ensemble import RandomForestClassifier "
   ]
  },
  {
   "cell_type": "code",
   "execution_count": 182,
   "id": "6ce9d4db",
   "metadata": {},
   "outputs": [],
   "source": [
    "rf_score = {}\n",
    "for i in range(1,30):\n",
    "    rf =  RandomForestClassifier(n_estimators = i,random_state=42)\n",
    "    rf.fit(X_train,y_train)\n",
    "    y_test_pred = rf.predict(X_test)\n",
    "    x = accuracy_score(y_test,y_test_pred)\n",
    "    rf_score[i] = x"
   ]
  },
  {
   "cell_type": "markdown",
   "id": "03a88424",
   "metadata": {},
   "source": [
    "The no. of estimators(no. of Decision Tress) that give the best accuracy on the dataset is chosen."
   ]
  },
  {
   "cell_type": "code",
   "execution_count": 183,
   "id": "525e3bc5",
   "metadata": {},
   "outputs": [
    {
     "data": {
      "image/png": "[encoded data removed]",
      "text/plain": [
       "<Figure size 432x288 with 1 Axes>"
      ]
     },
     "metadata": {
      "needs_background": "light"
     },
     "output_type": "display_data"
    }
   ],
   "source": [
    "plt.scatter(list(rf_score.keys()),list(rf_score.values()))\n",
    "plt.plot(list(rf_score.keys()),list(rf_score.values()),color=\"blue\")\n",
    "plt.xlabel(\"Number of estimators\")\n",
    "plt.ylabel(\"Accuracy Score\")\n",
    "plt.grid()\n",
    "plt.show()\n"
   ]
  },
  {
   "cell_type": "code",
   "execution_count": 184,
   "id": "dae0c405",
   "metadata": {},
   "outputs": [],
   "source": [
    "optimal_est = dict(sorted(rf_score.items(),key=lambda x:x[1],reverse=True))"
   ]
  },
  {
   "cell_type": "code",
   "execution_count": 185,
   "id": "6bdab42b",
   "metadata": {},
   "outputs": [
    {
     "data": {
      "text/plain": [
       "{19: 0.7966101694915254,\n",
       " 26: 0.7966101694915254,\n",
       " 29: 0.7966101694915254,\n",
       " 12: 0.7937853107344632,\n",
       " 25: 0.7937853107344632,\n",
       " 28: 0.7937853107344632,\n",
       " 15: 0.7909604519774012,\n",
       " 20: 0.7909604519774012,\n",
       " 21: 0.7909604519774012,\n",
       " 22: 0.7909604519774012,\n",
       " 14: 0.788135593220339,\n",
       " 16: 0.788135593220339,\n",
       " 23: 0.788135593220339,\n",
       " 24: 0.788135593220339,\n",
       " 27: 0.788135593220339,\n",
       " 11: 0.7853107344632768,\n",
       " 17: 0.7853107344632768,\n",
       " 18: 0.7853107344632768,\n",
       " 13: 0.7824858757062146,\n",
       " 10: 0.7768361581920904,\n",
       " 9: 0.7711864406779662,\n",
       " 8: 0.768361581920904,\n",
       " 7: 0.7655367231638418,\n",
       " 5: 0.7570621468926554,\n",
       " 6: 0.7570621468926554,\n",
       " 4: 0.7259887005649718,\n",
       " 3: 0.7231638418079096,\n",
       " 2: 0.6977401129943502,\n",
       " 1: 0.6440677966101694}"
      ]
     },
     "execution_count": 185,
     "metadata": {},
     "output_type": "execute_result"
    }
   ],
   "source": [
    "optimal_est"
   ]
  },
  {
   "cell_type": "code",
   "execution_count": 186,
   "id": "acaf0788",
   "metadata": {},
   "outputs": [
    {
     "data": {
      "text/plain": [
       "19"
      ]
     },
     "execution_count": 186,
     "metadata": {},
     "output_type": "execute_result"
    }
   ],
   "source": [
    "list(optimal_est.keys())[0]"
   ]
  },
  {
   "cell_type": "code",
   "execution_count": 187,
   "id": "c7936b3d",
   "metadata": {},
   "outputs": [],
   "source": [
    "rf =  RandomForestClassifier(n_estimators=19,random_state=42)\n",
    "rf.fit(X_train,y_train)\n",
    "y_test_pred = rf.predict(X_test)"
   ]
  },
  {
   "cell_type": "code",
   "execution_count": 188,
   "id": "1b015b53",
   "metadata": {},
   "outputs": [
    {
     "data": {
      "image/png": "[encoded data removed]",
      "text/plain": [
       "<Figure size 432x288 with 2 Axes>"
      ]
     },
     "metadata": {
      "needs_background": "light"
     },
     "output_type": "display_data"
    }
   ],
   "source": [
    "cf_rf = confusion_matrix(y_test,y_test_pred)\n",
    "sns.heatmap(cf_rf,annot=True,cmap=\"flare\",linecolor=\"orange\",fmt=\"d\")\n",
    "plt.xlabel(\"Predicted\")\n",
    "plt.ylabel(\"Actual\")\n",
    "plt.show()"
   ]
  },
  {
   "cell_type": "code",
   "execution_count": 189,
   "id": "0e5c60f5",
   "metadata": {},
   "outputs": [
    {
     "data": {
      "text/html": [
       "<div>\n",
       "<style scoped>\n",
       "    .dataframe tbody tr th:only-of-type {\n",
       "        vertical-align: middle;\n",
       "    }\n",
       "\n",
       "    .dataframe tbody tr th {\n",
       "        vertical-align: top;\n",
       "    }\n",
       "\n",
       "    .dataframe thead th {\n",
       "        text-align: right;\n",
       "    }\n",
       "</style>\n",
       "<table border=\"1\" class=\"dataframe\">\n",
       "  <thead>\n",
       "    <tr style=\"text-align: right;\">\n",
       "      <th></th>\n",
       "      <th>0</th>\n",
       "      <th>1</th>\n",
       "      <th>accuracy</th>\n",
       "      <th>macro avg</th>\n",
       "      <th>weighted avg</th>\n",
       "    </tr>\n",
       "  </thead>\n",
       "  <tbody>\n",
       "    <tr>\n",
       "      <th>precision</th>\n",
       "      <td>0.814371</td>\n",
       "      <td>0.780749</td>\n",
       "      <td>0.79661</td>\n",
       "      <td>0.797560</td>\n",
       "      <td>0.797560</td>\n",
       "    </tr>\n",
       "    <tr>\n",
       "      <th>recall</th>\n",
       "      <td>0.768362</td>\n",
       "      <td>0.824859</td>\n",
       "      <td>0.79661</td>\n",
       "      <td>0.796610</td>\n",
       "      <td>0.796610</td>\n",
       "    </tr>\n",
       "    <tr>\n",
       "      <th>f1-score</th>\n",
       "      <td>0.790698</td>\n",
       "      <td>0.802198</td>\n",
       "      <td>0.79661</td>\n",
       "      <td>0.796448</td>\n",
       "      <td>0.796448</td>\n",
       "    </tr>\n",
       "    <tr>\n",
       "      <th>support</th>\n",
       "      <td>177.000000</td>\n",
       "      <td>177.000000</td>\n",
       "      <td>0.79661</td>\n",
       "      <td>354.000000</td>\n",
       "      <td>354.000000</td>\n",
       "    </tr>\n",
       "  </tbody>\n",
       "</table>\n",
       "</div>"
      ],
      "text/plain": [
       "                    0           1  accuracy   macro avg  weighted avg\n",
       "precision    0.814371    0.780749   0.79661    0.797560      0.797560\n",
       "recall       0.768362    0.824859   0.79661    0.796610      0.796610\n",
       "f1-score     0.790698    0.802198   0.79661    0.796448      0.796448\n",
       "support    177.000000  177.000000   0.79661  354.000000    354.000000"
      ]
     },
     "execution_count": 189,
     "metadata": {},
     "output_type": "execute_result"
    }
   ],
   "source": [
    "report_dict_rf = classification_report(y_test,y_test_pred,output_dict=True)\n",
    "report_df_rf = pd.DataFrame(report_dict_rf)\n",
    "report_df_rf"
   ]
  },
  {
   "cell_type": "markdown",
   "id": "ca8e6691",
   "metadata": {},
   "source": [
    "#### We can thus conclude by saying that the Random Forest Classifier would be a relatively better algorithm for the above Customer Churn Prediction as it obtained a higher score using various evaluation metrics."
   ]
  },
  {
   "cell_type": "code",
   "execution_count": null,
   "id": "4b44004c",
   "metadata": {},
   "outputs": [],
   "source": []
  }
 ],
 "metadata": {
  "kernelspec": {
   "display_name": "Python 3 (ipykernel)",
   "language": "python",
   "name": "python3"
  },
  "language_info": {
   "codemirror_mode": {
    "name": "ipython",
    "version": 3
   },
   "file_extension": ".py",
   "mimetype": "text/x-python",
   "name": "python",
   "nbconvert_exporter": "python",
   "pygments_lexer": "ipython3",
   "version": "3.9.12"
  }
 },
 "nbformat": 4,
 "nbformat_minor": 5
}
